{
 "cells": [
  {
   "cell_type": "code",
   "execution_count": 1,
   "metadata": {},
   "outputs": [],
   "source": [
    "from __future__ import print_function\n",
    "__author__ = \"Federica B. Bianco, CUSP NYU 2018\""
   ]
  },
  {
   "cell_type": "markdown",
   "metadata": {},
   "source": [
    "# Create a <i>reproducible research</i> chunk of code\n",
    "\n",
    "That means we want the reader to be able to reproduce every step of the work we do. \n",
    "\n",
    "If our work includes the use of stochastic processes and random variables that gets tricky: how do we assure the random draw gives the same number to the user that it gave to me? That is not random! \n",
    "\n",
    "That becomes possible because computers are unable to poduce truly random numbers. When we ask a computer to generate a random number, it will in fact generate a \"pseudo random\" number. The number will be randon in the sanse that it will be some number between, for example, 0 and 1 if we ask for a **uniform random distribution** or a number near 0 if we aks for a **Gaussian distribution with mean 0**. <i> But the sequence of pseudo-random numbers that a compujter generates will depend on its **seed**: if you know the seed you know all the numbers that are \"randomely\" drawn</i>.  \n",
    "\n",
    "You can read more about pseudorandom number generation in this wikipedia article https://en.wikipedia.org/wiki/Pseudorandom_number_generator\n",
    "\n",
    "Fill in the empty cells below with code, as directed."
   ]
  },
  {
   "cell_type": "code",
   "execution_count": 2,
   "metadata": {},
   "outputs": [],
   "source": [
    "import os\n",
    "import sys\n",
    "\n",
    "# you can use the numpy library for random number generation: \n",
    "# http://docs.scipy.org/doc/numpy/reference/routines.random.html\n",
    "\n",
    "import numpy as np"
   ]
  },
  {
   "cell_type": "markdown",
   "metadata": {},
   "source": [
    "## THIS IS THE MOST IMPORTANT PIECE OF THIS CODE! \n",
    "### give numpy as seed for this code to be reproducible \n",
    "(no points if this is wrong)\n",
    "\n",
    "http://docs.scipy.org/doc/numpy/reference/generated/numpy.random.seed.html"
   ]
  },
  {
   "cell_type": "code",
   "execution_count": 3,
   "metadata": {},
   "outputs": [],
   "source": [
    "np.random.seed()"
   ]
  },
  {
   "cell_type": "markdown",
   "metadata": {},
   "source": [
    "### 1. Generate random distributions. use the function \n",
    "http://docs.scipy.org/doc/numpy/reference/generated/numpy.random.randn.html\n",
    "### to generate 100 2-dimensional random datapoints in a gaussian distribution \n",
    "\n",
    "call the array ReprRand\n"
   ]
  },
  {
   "cell_type": "code",
   "execution_count": 4,
   "metadata": {
    "scrolled": true
   },
   "outputs": [
    {
     "name": "stdout",
     "output_type": "stream",
     "text": [
      "[[-0.27643148  0.292199    2.51447127  1.27418175 -0.24860805  1.50244526\n",
      "   0.62195325  1.21379133 -1.7787279   0.13642571 -1.12615571 -0.92039756\n",
      "  -0.77289449  0.22101058 -0.07525414 -0.18490712 -0.57160381 -2.25087486\n",
      "   0.97826058 -0.45192193  0.94623495  0.73458156  1.2767055   0.84561914\n",
      "   0.27980271  1.12664819  0.35936439  1.40485021  0.54527901  0.18131344\n",
      "   1.50920833 -0.78964512 -0.64276546  1.47416812  0.07298296  0.34839466\n",
      "  -0.70886622  0.39641332  1.26927211  0.44217844 -0.34205423  0.07860137\n",
      "   0.51442244 -0.29807163  0.77761314 -0.38401414  0.756862   -1.39989386\n",
      "   0.70138471 -1.05878521 -0.78239802 -0.10544164  0.34498137 -0.64027666\n",
      "  -0.51508951 -1.57471162 -0.06275384  0.7168349  -0.4565592   0.76511317\n",
      "   1.27081151  1.45046223  0.96407398 -0.12946302  1.21932196 -0.19276052\n",
      "   0.14465184  0.01034639 -1.46919406  1.05899845 -0.23898971 -0.35833473\n",
      "  -0.82585427  0.87414834  0.27121058  0.7059027   1.02174677  0.0296515\n",
      "   0.24351559 -0.46636632 -1.36083204  0.42511706 -2.48188208 -1.9689029\n",
      "   0.06543208  0.4560099  -0.84742365  0.54114669  0.3805164  -0.12879585\n",
      "  -1.06522946 -0.01092442 -0.35652197 -1.23344079 -0.20618497  0.54925908\n",
      "  -0.47251829 -0.47314508  0.80662718 -0.61800649]\n",
      " [-0.11082586 -0.10165331  0.30727184  0.10041895 -0.33226651 -0.02871386\n",
      "   0.76950554 -1.09129767 -1.61327638 -1.05279236 -1.81839258  0.9230904\n",
      "  -0.94997905 -0.09464353 -1.49515107 -0.32217464  0.70154877 -0.37992253\n",
      "  -1.33721824 -0.33559042  1.06958107  0.60719094 -0.27067571  1.6839474\n",
      "  -0.71935813  0.58401229  0.08583507  0.5920905   1.165781    0.55782075\n",
      "   0.76840427 -0.50983888 -1.19661885 -0.37117     1.70133111  0.22598321\n",
      "   0.53808138 -1.48372123 -0.35654827  0.79196547  0.29394256  0.08969741\n",
      "   0.10329431 -0.36776427  0.12130737 -0.47323274 -1.14289752  0.83989042\n",
      "  -1.54415961  0.80391244 -0.77455222 -0.43811431 -0.2302352   1.2631757\n",
      "  -0.2465392   1.38818969 -0.48670673 -0.04222756 -1.63953781  0.27056852\n",
      "   0.89124974 -0.8338524  -0.13675478  0.64477493  1.17620288 -0.44855112\n",
      "   0.16602618  0.05084411  1.03928813  1.41905328  0.99469514  1.60618458\n",
      "  -0.40183694  0.50143169  0.40825772 -0.34730536  0.06002407  1.03054392\n",
      "  -0.05034202 -0.2402252   1.21244274 -0.81283986 -0.31329007  0.39305684\n",
      "  -0.09162083 -0.3757426   0.60276946  1.6633153  -1.0963149  -2.16480512\n",
      "  -0.3452864  -0.74563461 -0.29419308  1.98128324  0.22046732  1.25181283\n",
      "   1.08825499  0.74877617 -2.13292168 -1.02790715]]\n"
     ]
    }
   ],
   "source": [
    "ReprRand=np.random.randn(2,100)\n",
    "print(ReprRand)"
   ]
  },
  {
   "cell_type": "markdown",
   "metadata": {},
   "source": [
    "#### if you did this correctly the shape of ReprRand will be (2, 100)\n"
   ]
  },
  {
   "cell_type": "code",
   "execution_count": 5,
   "metadata": {},
   "outputs": [
    {
     "data": {
      "text/plain": [
       "(2, 100)"
      ]
     },
     "execution_count": 5,
     "metadata": {},
     "output_type": "execute_result"
    }
   ],
   "source": [
    "ReprRand.shape"
   ]
  },
  {
   "cell_type": "markdown",
   "metadata": {},
   "source": [
    "## 2. use the same function to generate 50 more random 2x100 numpy arrays and store them in ReprRandAll, all with different mean.\n",
    "\n",
    "np.random.randn creates a distribution with mean 0 and standard deviation 1 by default.\n",
    "\n",
    "To obtain a gaussian distribution with a mean different than 1 using np.random.randn you must add your new mean (it is explained in the dunction documentation for which I already gave you the link)\n",
    "\n",
    "If you want to change the standard deviation (sigma) as well you multiply the distribution by the new sigma.\n",
    "\n",
    "You can do it in a for loop. The first line of code I included generates an array of zeros that you can fill in with your new numbers. \n",
    "\n",
    "\n"
   ]
  },
  {
   "cell_type": "code",
   "execution_count": 6,
   "metadata": {},
   "outputs": [
    {
     "name": "stdout",
     "output_type": "stream",
     "text": [
      "[[[ -2.08293294   0.58199418   0.33786909 ...,  -1.78680277  -1.91899307\n",
      "     0.34799138]\n",
      "  [ -0.47971303  -0.26198882  -1.13847597 ...,  -0.74161297  -1.03385045\n",
      "    -0.61239567]]\n",
      "\n",
      " [[  1.03214056   0.12679106   1.60661929 ...,   0.78462845   0.90300611\n",
      "    -0.42383323]\n",
      "  [  2.20104383   1.56363652   0.97812101 ...,   2.02951236   0.83688766\n",
      "     2.33220057]]\n",
      "\n",
      " [[  0.36264096   2.52442245   2.71216428 ...,   2.19077172   0.59447658\n",
      "     2.20579342]\n",
      "  [  0.60231766   2.41262238   0.50148505 ...,   2.99065193   2.67484158\n",
      "     1.04657584]]\n",
      "\n",
      " ..., \n",
      " [[ 47.80301135  47.44596152  47.07473214 ...,  47.03605226  45.38637668\n",
      "    46.97658703]\n",
      "  [ 48.12701007  45.99425739  48.05324576 ...,  45.68383728  46.96537849\n",
      "    46.87143709]]\n",
      "\n",
      " [[ 47.14457818  48.29249429  49.19061131 ...,  47.54139285  49.79266153\n",
      "    47.968692  ]\n",
      "  [ 47.08519888  47.68703306  47.83270172 ...,  48.44142953  47.28131391\n",
      "    47.99914999]]\n",
      "\n",
      " [[ 48.45329949  50.05642744  48.56376728 ...,  49.1928556   50.13825473\n",
      "    47.91318052]\n",
      "  [ 48.76134824  48.69099266  49.72668855 ...,  49.32588995  49.69634463\n",
      "    49.71380869]]]\n"
     ]
    }
   ],
   "source": [
    "ReprRandAll = np.zeros((50, 2, 100))\n",
    "for i in range(50):\n",
    "    \n",
    "    ReprRandAll[i]= 1*np.random.randn(2,100) + i\n",
    "    \n",
    "    \n",
    "print (ReprRandAll)"
   ]
  },
  {
   "cell_type": "code",
   "execution_count": 7,
   "metadata": {},
   "outputs": [
    {
     "data": {
      "text/plain": [
       "(50, 2, 100)"
      ]
     },
     "execution_count": 7,
     "metadata": {},
     "output_type": "execute_result"
    }
   ],
   "source": [
    "# run this cell\n",
    "ReprRandAll.shape"
   ]
  },
  {
   "cell_type": "markdown",
   "metadata": {},
   "source": [
    "## 3. now plot them: \n",
    "\n",
    "you can use the matplotlib library, and the function scatter(), but that would plot everything in the same color unless you ask it not to. For convenience, let's use the function plot() which by default plots lines, and tell it to plot points (in addition plot is actually more efficient, so if you have a large dataset you may want to consider using plot with points for it anyways)\n",
    "\n",
    "https://scipy-lectures.github.io/intro/matplotlib/matplotlib.html#scatter-plots\n",
    "\n",
    "http://matplotlib.org/users/pyplot_tutorial.html\n"
   ]
  },
  {
   "cell_type": "code",
   "execution_count": 8,
   "metadata": {},
   "outputs": [
    {
     "name": "stdout",
     "output_type": "stream",
     "text": [
      "Populating the interactive namespace from numpy and matplotlib\n"
     ]
    },
    {
     "data": {
      "image/png": "[encoded data removed]",
      "text/plain": [
       "<matplotlib.figure.Figure at 0x7fe733e2bed0>"
      ]
     },
     "metadata": {},
     "output_type": "display_data"
    }
   ],
   "source": [
    "import pylab as pl\n",
    "%pylab inline\n",
    "# the last line of code makes the plot show up within the notebook. \n",
    "# Always include it so that your homework notebooks are rendered and we can see\n",
    "# what you wanted your results to be. \n",
    "\n",
    "import matplotlib.pyplot as plt\n",
    "\n",
    "for i in range(50):\n",
    "    x = ReprRandAll[i][0]\n",
    "    y = ReprRandAll[i][1]\n",
    "    plt.plot(x,y,'o')\n",
    "\n",
    "\n",
    "plt.title(\"Scatterplot of Random Distribution\")\n",
    "plt.xlabel('numbers')\n",
    "plt.ylabel('numbers')\n",
    "plt.show()\n"
   ]
  },
  {
   "cell_type": "markdown",
   "metadata": {},
   "source": [
    "Always add a caption to each of your homework figures. \n",
    "And remember to give your labels some names! \n",
    "This is a general rule. Without the caption or axis labels this portion of the HW will not get points. Make sure the font in the labels is large enough to be readable.  \n",
    "\n",
    "## Figure 1: \n",
    "The figure includes 50 sets of random 2x100 numpy arrays, and they all have different means. \n",
    "\n"
   ]
  },
  {
   "cell_type": "markdown",
   "metadata": {},
   "source": [
    "## Challenge\n",
    "\n",
    "It is easier to give the same mean and standard deviation to each dimension. Can you give two different values for the mean along the x- and the mean along the y- axis for each of the 50 distributions if you have not done so? If you are an experienced coder, can you do it in a single line?\n",
    "\n",
    "\n"
   ]
  },
  {
   "cell_type": "code",
   "execution_count": 9,
   "metadata": {},
   "outputs": [],
   "source": [
    "# code here..."
   ]
  },
  {
   "cell_type": "code",
   "execution_count": 10,
   "metadata": {},
   "outputs": [],
   "source": [
    "# plot here..."
   ]
  },
  {
   "cell_type": "code",
   "execution_count": null,
   "metadata": {},
   "outputs": [],
   "source": []
  }
 ],
 "metadata": {
  "anaconda-cloud": {},
  "kernelspec": {
   "display_name": "PUI2016_Python2",
   "language": "python",
   "name": "pui2016_python2"
  },
  "language_info": {
   "codemirror_mode": {
    "name": "ipython",
    "version": 2
   },
   "file_extension": ".py",
   "mimetype": "text/x-python",
   "name": "python",
   "nbconvert_exporter": "python",
   "pygments_lexer": "ipython2",
   "version": "2.7.12"
  }
 },
 "nbformat": 4,
 "nbformat_minor": 1
}
