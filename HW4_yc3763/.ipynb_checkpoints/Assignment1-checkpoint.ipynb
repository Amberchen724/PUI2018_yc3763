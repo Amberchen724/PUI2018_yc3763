{
 "cells": [
  {
   "cell_type": "code",
   "execution_count": 984,
   "metadata": {},
   "outputs": [
    {
     "name": "stdout",
     "output_type": "stream",
     "text": [
      "Populating the interactive namespace from numpy and matplotlib\n"
     ]
    }
   ],
   "source": [
    "from __future__ import print_function\n",
    "import pylab as pl\n",
    "import numpy as py\n",
    "import seaborn as sns\n",
    "from scipy.optimize import curve_fit, minimize\n",
    "%pylab inline"
   ]
  },
  {
   "cell_type": "code",
   "execution_count": 985,
   "metadata": {},
   "outputs": [],
   "source": [
    "## Normal Distribution "
   ]
  },
  {
   "cell_type": "code",
   "execution_count": 986,
   "metadata": {},
   "outputs": [],
   "source": [
    "distribution = ['gaus']"
   ]
  },
  {
   "cell_type": "code",
   "execution_count": 987,
   "metadata": {},
   "outputs": [],
   "source": [
    "mymean = 100\n",
    "df = mymean\n",
    "np.random.seed(100)"
   ]
  },
  {
   "cell_type": "code",
   "execution_count": 988,
   "metadata": {},
   "outputs": [
    {
     "name": "stdout",
     "output_type": "stream",
     "text": [
      "{'gaus': array([  98.25023453,  100.3426804 ,  101.1530358 ,   99.74756396,\n",
      "        100.98132079,  100.51421884,  100.22117967,   98.92995667,\n",
      "         99.81050417,  100.25500144,   99.54197301,  100.43516349,\n",
      "         99.41640495,  100.81684707,  100.67272081,   99.89558886,\n",
      "         99.46871962,  101.02973269,   99.56186438,   98.88168175,\n",
      "        101.61898166,  101.54160517,   99.74812086,   99.15756426,\n",
      "        100.18451869,  100.9370822 ,  100.73100034,  101.36155613,\n",
      "         99.67376194,  100.05567601,  100.22239961,   98.556783  ,\n",
      "         99.24364769,  100.81645401,  100.75044476,   99.54405307,\n",
      "        101.18962227,   98.30938317,   98.64360095,   98.76756549,\n",
      "         99.45556084,   99.33182826,  100.00731456,   99.38706126,\n",
      "        101.29974807,   98.26690438,   99.0166899 ,  100.35750775,\n",
      "         98.3864215 ,  101.47071387,   98.8119824 ,   99.45025381,\n",
      "         99.05995384,   99.17206764,  100.10886347,  100.50780959,\n",
      "         99.13777265,  101.24946974,   99.92038875,   99.11026852,\n",
      "         99.11820161,  100.01863895,  100.23784462,  100.01354855,\n",
      "         98.3644706 ,   98.95579012,  100.61303888,  100.73620521,\n",
      "        101.02692144,   98.56780939,   98.1588117 ,  100.36609323,\n",
      "         99.66822286,   99.31078202,  102.03460756,   99.44928559,\n",
      "        100.75045333,   98.69300766,  100.58057334,   98.89547691,\n",
      "        100.69012147,  100.68689007,   98.43331247,  100.90497412,\n",
      "        100.7788224 ,  100.42823287,  100.10887199,  100.02828363,\n",
      "         99.42117418,   98.8005488 ,   98.29404799,  100.36916396,\n",
      "        101.87657343,   99.62309665,  101.83193608,  100.00301743,\n",
      "         99.92397653,  100.00395759,   99.81498589,   97.51284846])}\n"
     ]
    }
   ],
   "source": [
    "md = {}\n",
    "md['gaus'] = np.random.normal(100, size=100)\n",
    "print(md) "
   ]
  },
  {
   "cell_type": "code",
   "execution_count": 989,
   "metadata": {},
   "outputs": [
    {
     "data": {
      "text/plain": [
       "Text(0.5,1,'Mean of the Samples')"
      ]
     },
     "execution_count": 989,
     "metadata": {},
     "output_type": "execute_result"
    },
    {
     "name": "stderr",
     "output_type": "stream",
     "text": [
      "/usr/local/Anaconda3-5.0.0-Linux-x86_64/envs/PUI2016_Python3/lib/python3.5/site-packages/matplotlib/font_manager.py:1316: UserWarning: findfont: Font family ['sans-serif'] not found. Falling back to DejaVu Sans\n",
      "  (prop.get_family(), self.defaultFamily[fontext]))\n"
     ]
    },
    {
     "data": {
      "image/png": "[encoded data removed]",
      "text/plain": [
       "<matplotlib.figure.Figure at 0x7f5ee5ac42e8>"
      ]
     },
     "metadata": {},
     "output_type": "display_data"
    }
   ],
   "source": [
    "pl.hist(md['gaus'])\n",
    "pl.xlabel('X')\n",
    "pl.ylabel('N')\n",
    "pl.title('Mean of the Samples')"
   ]
  },
  {
   "cell_type": "markdown",
   "metadata": {},
   "source": [
    "## Figure 1: This is the normal distribution, the mean of the distribution is 100. \n",
    "              "
   ]
  },
  {
   "cell_type": "code",
   "execution_count": 990,
   "metadata": {},
   "outputs": [],
   "source": [
    "#print (\"normal mean: %.2f, standard deviation: %.2f\"%(md['gaus'].mean(), md['gaus'].std()))"
   ]
  },
  {
   "cell_type": "code",
   "execution_count": 991,
   "metadata": {},
   "outputs": [],
   "source": [
    "#np.random.normal(100, 1.03, size=500).mean()"
   ]
  },
  {
   "cell_type": "code",
   "execution_count": 992,
   "metadata": {},
   "outputs": [
    {
     "name": "stdout",
     "output_type": "stream",
     "text": [
      "[2000 1000  666  500  400  333  285  250  222  200  181  166  153  142  133\n",
      "  125  117  111  105  100   95   90   86   83   80   76   74   71   68   66\n",
      "   64   62   60   58   57   55   54   52   51   50   48   47   46   45   44\n",
      "   43   42   41   40   40   39   38   37   37   36   35   35   34   33   33\n",
      "   32   32   31   31   30   30   29   29   28   28   28   27   27   27   26\n",
      "   26   25   25   25   25   24   24   24   23   23   23   22   22   22   22\n",
      "   21   21   21   21   21   20   20   20   20] (99,)\n"
     ]
    }
   ],
   "source": [
    "mysize = (2000 / (np.array(range(1,100)))). astype(int)\n",
    "print (mysize, mysize.shape)"
   ]
  },
  {
   "cell_type": "code",
   "execution_count": 993,
   "metadata": {
    "scrolled": false
   },
   "outputs": [
    {
     "name": "stderr",
     "output_type": "stream",
     "text": [
      "/usr/local/Anaconda3-5.0.0-Linux-x86_64/envs/PUI2016_Python3/lib/python3.5/site-packages/matplotlib/font_manager.py:1316: UserWarning: findfont: Font family ['sans-serif'] not found. Falling back to DejaVu Sans\n",
      "  (prop.get_family(), self.defaultFamily[fontext]))\n"
     ]
    },
    {
     "data": {
      "image/png": "[encoded data removed]",
      "text/plain": [
       "<matplotlib.figure.Figure at 0x7f5ee863d1d0>"
      ]
     },
     "metadata": {},
     "output_type": "display_data"
    }
   ],
   "source": [
    "md['gaus'] = {} \n",
    "\n",
    "for n in mysize:\n",
    "    md['gaus'][n] = np.random.normal(100, 1, 100)\n",
    "\n",
    "md['gaus']['means'] = {}\n",
    "normal_dis = pl.figure(figsize=(10,6)).add_subplot(111)\n",
    "\n",
    "for nn in md['gaus']:\n",
    "    if not type(nn) == str:\n",
    "        md['gaus']['means'][nn] = md['gaus'][nn].mean()\n",
    "        \n",
    "        normal_dis.plot(nn, md['gaus']['means'][nn], 'o')\n",
    "        normal_dis.set_xlabel('sample size', fontsize=18)\n",
    "        normal_dis.set_ylabel('sample mean', fontsize=18)\n",
    "        normal_dis.set_title('Normal Distribution', fontsize=18)\n",
    "        normal_dis.plot([min(mysize), max(mysize)], [df, df], 'k')"
   ]
  },
  {
   "cell_type": "markdown",
   "metadata": {},
   "source": [
    "# Figure 2: Plotting the 100 samples of random distribution. The mean of the ditribution is 100. By the law of large numbers,  the sample means tend to closer to the distribution's population mean which is set at 100."
   ]
  },
  {
   "cell_type": "code",
   "execution_count": 994,
   "metadata": {},
   "outputs": [],
   "source": [
    "## Poisson Distribution "
   ]
  },
  {
   "cell_type": "code",
   "execution_count": 995,
   "metadata": {},
   "outputs": [],
   "source": [
    "distribution = ['pois']"
   ]
  },
  {
   "cell_type": "code",
   "execution_count": 996,
   "metadata": {},
   "outputs": [],
   "source": [
    "mypoismean = 100\n",
    "pf = mypoismean\n",
    "np.random.seed(100)"
   ]
  },
  {
   "cell_type": "code",
   "execution_count": 997,
   "metadata": {},
   "outputs": [],
   "source": [
    "p = np.random.poisson(100, 100)"
   ]
  },
  {
   "cell_type": "code",
   "execution_count": 998,
   "metadata": {},
   "outputs": [
    {
     "data": {
      "text/plain": [
       "Text(0.5,1,'Mean of the Samples')"
      ]
     },
     "execution_count": 998,
     "metadata": {},
     "output_type": "execute_result"
    },
    {
     "name": "stderr",
     "output_type": "stream",
     "text": [
      "/usr/local/Anaconda3-5.0.0-Linux-x86_64/envs/PUI2016_Python3/lib/python3.5/site-packages/matplotlib/font_manager.py:1316: UserWarning: findfont: Font family ['sans-serif'] not found. Falling back to DejaVu Sans\n",
      "  (prop.get_family(), self.defaultFamily[fontext]))\n"
     ]
    },
    {
     "data": {
      "image/png": "[encoded data removed]",
      "text/plain": [
       "<matplotlib.figure.Figure at 0x7f5ee7a0acc0>"
      ]
     },
     "metadata": {},
     "output_type": "display_data"
    }
   ],
   "source": [
    "pl.hist(p)\n",
    "pl.xlabel('X')\n",
    "pl.ylabel('N')\n",
    "pl.title('Mean of the Samples')"
   ]
  },
  {
   "cell_type": "markdown",
   "metadata": {},
   "source": [
    "# Figure 3: This is poisson distribution with mean as 100. "
   ]
  },
  {
   "cell_type": "code",
   "execution_count": 999,
   "metadata": {},
   "outputs": [],
   "source": [
    "#np.random.poisson(100, 2000).mean()"
   ]
  },
  {
   "cell_type": "code",
   "execution_count": 1000,
   "metadata": {},
   "outputs": [
    {
     "name": "stdout",
     "output_type": "stream",
     "text": [
      "[2000 1000  666  500  400  333  285  250  222  200  181  166  153  142  133\n",
      "  125  117  111  105  100   95   90   86   83   80   76   74   71   68   66\n",
      "   64   62   60   58   57   55   54   52   51   50   48   47   46   45   44\n",
      "   43   42   41   40   40   39   38   37   37   36   35   35   34   33   33\n",
      "   32   32   31   31   30   30   29   29   28   28   28   27   27   27   26\n",
      "   26   25   25   25   25   24   24   24   23   23   23   22   22   22   22\n",
      "   21   21   21   21   21   20   20   20   20] (99,)\n"
     ]
    }
   ],
   "source": [
    "mysize1 = (2000 / (np.array(range(1,100)))). astype(int)\n",
    "print (mysize1, mysize1.shape)"
   ]
  },
  {
   "cell_type": "code",
   "execution_count": 1001,
   "metadata": {},
   "outputs": [
    {
     "name": "stderr",
     "output_type": "stream",
     "text": [
      "/usr/local/Anaconda3-5.0.0-Linux-x86_64/envs/PUI2016_Python3/lib/python3.5/site-packages/matplotlib/font_manager.py:1316: UserWarning: findfont: Font family ['sans-serif'] not found. Falling back to DejaVu Sans\n",
      "  (prop.get_family(), self.defaultFamily[fontext]))\n"
     ]
    },
    {
     "data": {
      "image/png": "[encoded data removed]",
      "text/plain": [
       "<matplotlib.figure.Figure at 0x7f5ee7d5ddd8>"
      ]
     },
     "metadata": {},
     "output_type": "display_data"
    }
   ],
   "source": [
    "md['pois'] = {} \n",
    "\n",
    "for n in mysize1:\n",
    "    md['pois'][n] = np.random.poisson(100, 100)\n",
    "\n",
    "md['pois']['means'] = {}\n",
    "poission_dis = pl.figure(figsize=(10,6)).add_subplot(111)\n",
    "\n",
    "for nn in md['pois']:\n",
    "    if not type(nn) == str:\n",
    "        md['pois']['means'][nn] = md['pois'][nn].mean()\n",
    "        poission_dis.plot(nn, md['pois']['means'][nn], 'o')\n",
    "        poission_dis.set_xlabel('sample size', fontsize=18)\n",
    "        poission_dis.set_ylabel('sample mean', fontsize=18)\n",
    "        poission_dis.set_title('Poisson Distribution', fontsize=18)\n",
    "        poission_dis.plot([min(mysize), max(mysize)], [pf, pf], 'k')"
   ]
  },
  {
   "cell_type": "markdown",
   "metadata": {},
   "source": [
    "# Figure 4 : Plotting the 100 samples of poisson distribution. The mean of the ditribution is 100. By the law of large numbers,  the sample means tend to closer to the distribution's population mean which is set at 100."
   ]
  },
  {
   "cell_type": "code",
   "execution_count": 1002,
   "metadata": {},
   "outputs": [],
   "source": [
    "## Binomial Distribution "
   ]
  },
  {
   "cell_type": "code",
   "execution_count": 1003,
   "metadata": {},
   "outputs": [],
   "source": [
    "distribution = ['binomial']"
   ]
  },
  {
   "cell_type": "code",
   "execution_count": 1004,
   "metadata": {},
   "outputs": [],
   "source": [
    "mybinomean = 100\n",
    "mf = mybinomean\n",
    "np.random.seed(100)"
   ]
  },
  {
   "cell_type": "code",
   "execution_count": 1005,
   "metadata": {},
   "outputs": [],
   "source": [
    "bio = np.random.binomial(200,0.5,100)\n",
    "#p = np.random.binomial(100, 2000) ##s = np.random.binomial(n, p, 1000) n is number of trial p is probability of each trial "
   ]
  },
  {
   "cell_type": "code",
   "execution_count": 1006,
   "metadata": {},
   "outputs": [
    {
     "data": {
      "text/plain": [
       "Text(0.5,1,'Mean of the Samples')"
      ]
     },
     "execution_count": 1006,
     "metadata": {},
     "output_type": "execute_result"
    },
    {
     "name": "stderr",
     "output_type": "stream",
     "text": [
      "/usr/local/Anaconda3-5.0.0-Linux-x86_64/envs/PUI2016_Python3/lib/python3.5/site-packages/matplotlib/font_manager.py:1316: UserWarning: findfont: Font family ['sans-serif'] not found. Falling back to DejaVu Sans\n",
      "  (prop.get_family(), self.defaultFamily[fontext]))\n"
     ]
    },
    {
     "data": {
      "image/png": "[encoded data removed]",
      "text/plain": [
       "<matplotlib.figure.Figure at 0x7f5ee7f85358>"
      ]
     },
     "metadata": {},
     "output_type": "display_data"
    }
   ],
   "source": [
    "pl.hist(bio)\n",
    "pl.xlabel('X')\n",
    "pl.ylabel('N')\n",
    "pl.title('Mean of the Samples')"
   ]
  },
  {
   "cell_type": "markdown",
   "metadata": {},
   "source": [
    "# Figure 5: This is binomial distribution with mean as 100. "
   ]
  },
  {
   "cell_type": "code",
   "execution_count": 1007,
   "metadata": {},
   "outputs": [
    {
     "name": "stdout",
     "output_type": "stream",
     "text": [
      "[2000 1000  666  500  400  333  285  250  222  200  181  166  153  142  133\n",
      "  125  117  111  105  100   95   90   86   83   80   76   74   71   68   66\n",
      "   64   62   60   58   57   55   54   52   51   50   48   47   46   45   44\n",
      "   43   42   41   40   40   39   38   37   37   36   35   35   34   33   33\n",
      "   32   32   31   31   30   30   29   29   28   28   28   27   27   27   26\n",
      "   26   25   25   25   25   24   24   24   23   23   23   22   22   22   22\n",
      "   21   21   21   21   21   20   20   20   20] (99,)\n"
     ]
    }
   ],
   "source": [
    "mysize2 = (2000 / (np.array(range(1,100)))). astype(int)\n",
    "print (mysize2, mysize2.shape)"
   ]
  },
  {
   "cell_type": "code",
   "execution_count": 1008,
   "metadata": {},
   "outputs": [
    {
     "name": "stderr",
     "output_type": "stream",
     "text": [
      "/usr/local/Anaconda3-5.0.0-Linux-x86_64/envs/PUI2016_Python3/lib/python3.5/site-packages/matplotlib/font_manager.py:1316: UserWarning: findfont: Font family ['sans-serif'] not found. Falling back to DejaVu Sans\n",
      "  (prop.get_family(), self.defaultFamily[fontext]))\n"
     ]
    },
    {
     "data": {
      "image/png": "[encoded data removed]",
      "text/plain": [
       "<matplotlib.figure.Figure at 0x7f5ee692bac8>"
      ]
     },
     "metadata": {},
     "output_type": "display_data"
    }
   ],
   "source": [
    "md['binomial'] = {} \n",
    "\n",
    "for n in mysize1:\n",
    "    md['binomial'][n] = np.random.binomial(1000,0.1,n) # np = mean, n/p 100 = mean = np = n*0.1\n",
    "\n",
    "md['binomial']['means'] = {}\n",
    "binomial_dis = pl.figure(figsize=(10,6)).add_subplot(111)\n",
    "\n",
    "for nn in [c for c in md['binomial'] if c != 'means']:\n",
    "    \n",
    "    md['binomial']['means'][nn] = md['binomial'][nn].mean()\n",
    "    binomial_dis.plot(nn, md['binomial']['means'][nn], 'o')\n",
    "    binomial_dis.set_xlabel('sample size', fontsize=18)\n",
    "    binomial_dis.set_ylabel('sample mean', fontsize=18)\n",
    "    binomial_dis.set_title('Binomial Distribution', fontsize=18)\n",
    "    binomial_dis.plot([min(mysize), max(mysize)], [100, 100], 'k')"
   ]
  },
  {
   "cell_type": "markdown",
   "metadata": {},
   "source": [
    "# Figure 6: Plotting the 100 samples of poisson distribution. The mean of the ditribution is 100. By the law of large numbers, the sample means tend to closer to the distribution's population mean which is set at 100."
   ]
  },
  {
   "cell_type": "code",
   "execution_count": 1009,
   "metadata": {},
   "outputs": [],
   "source": [
    "##a Chi-Squared distribution"
   ]
  },
  {
   "cell_type": "code",
   "execution_count": 1010,
   "metadata": {},
   "outputs": [],
   "source": [
    "mychisqmean = 100\n",
    "ad = mychisqmean\n",
    "np.random.seed(100)"
   ]
  },
  {
   "cell_type": "code",
   "execution_count": 1011,
   "metadata": {},
   "outputs": [
    {
     "data": {
      "text/plain": [
       "Text(0.5,1,'Mean of the Samples')"
      ]
     },
     "execution_count": 1011,
     "metadata": {},
     "output_type": "execute_result"
    },
    {
     "name": "stderr",
     "output_type": "stream",
     "text": [
      "/usr/local/Anaconda3-5.0.0-Linux-x86_64/envs/PUI2016_Python3/lib/python3.5/site-packages/matplotlib/font_manager.py:1316: UserWarning: findfont: Font family ['sans-serif'] not found. Falling back to DejaVu Sans\n",
      "  (prop.get_family(), self.defaultFamily[fontext]))\n"
     ]
    },
    {
     "data": {
      "image/png": "[encoded data removed]",
      "text/plain": [
       "<matplotlib.figure.Figure at 0x7f5ee7226fd0>"
      ]
     },
     "metadata": {},
     "output_type": "display_data"
    }
   ],
   "source": [
    "md['chisq'] = np.random.chisquare(100, size=100)\n",
    "md['chisq']\n",
    "pl.hist(md['chisq'],bins=35)\n",
    "pl.xlabel('X')\n",
    "pl.ylabel('N')\n",
    "pl.title('Mean of the Samples')"
   ]
  },
  {
   "cell_type": "markdown",
   "metadata": {},
   "source": [
    "# Figure 7: This is chi-square distribution with mean as 100."
   ]
  },
  {
   "cell_type": "code",
   "execution_count": 1012,
   "metadata": {},
   "outputs": [],
   "source": [
    "#print (\"Chisq mean: %.2f, standard deviation: %.2f\"%(md['chisq'].mean(), md['chisq'].std()))"
   ]
  },
  {
   "cell_type": "code",
   "execution_count": 1013,
   "metadata": {
    "scrolled": true
   },
   "outputs": [
    {
     "name": "stdout",
     "output_type": "stream",
     "text": [
      "[2000 1000  666  500  400  333  285  250  222  200  181  166  153  142  133\n",
      "  125  117  111  105  100   95   90   86   83   80   76   74   71   68   66\n",
      "   64   62   60   58   57   55   54   52   51   50   48   47   46   45   44\n",
      "   43   42   41   40   40   39   38   37   37   36   35   35   34   33   33\n",
      "   32   32   31   31   30   30   29   29   28   28   28   27   27   27   26\n",
      "   26   25   25   25   25   24   24   24   23   23   23   22   22   22   22\n",
      "   21   21   21   21   21   20   20   20   20] (99,)\n"
     ]
    }
   ],
   "source": [
    "mysize = (2000 / (np.array(range(1, 100)))).astype(int)\n",
    "print (mysize, mysize.shape)"
   ]
  },
  {
   "cell_type": "code",
   "execution_count": 1014,
   "metadata": {
    "scrolled": false
   },
   "outputs": [
    {
     "name": "stderr",
     "output_type": "stream",
     "text": [
      "/usr/local/Anaconda3-5.0.0-Linux-x86_64/envs/PUI2016_Python3/lib/python3.5/site-packages/matplotlib/font_manager.py:1316: UserWarning: findfont: Font family ['sans-serif'] not found. Falling back to DejaVu Sans\n",
      "  (prop.get_family(), self.defaultFamily[fontext]))\n"
     ]
    },
    {
     "data": {
      "image/png": "[encoded data removed]",
      "text/plain": [
       "<matplotlib.figure.Figure at 0x7f5ee68049e8>"
      ]
     },
     "metadata": {},
     "output_type": "display_data"
    }
   ],
   "source": [
    "md['chisq'] = {} \n",
    "\n",
    "for n in mysize:\n",
    "    md['chisq'][n] = np.random.chisquare(100, size = n)\n",
    "    \n",
    "# save the means for plotting later    \n",
    "\n",
    "md['chisq']['means'] = {}\n",
    "axchisq_mu_n = pl.figure(figsize=(10,6)).add_subplot(111)\n",
    "\n",
    "for nn in md['chisq']:\n",
    "    if not type(nn) == str:\n",
    "        md['chisq']['means'][nn] = md['chisq'][nn].mean()\n",
    "        #and plot it\n",
    "        axchisq_mu_n.plot(nn, md['chisq']['means'][nn], 'o')\n",
    "        axchisq_mu_n.set_xlabel('sample size', fontsize=18)\n",
    "        axchisq_mu_n.set_ylabel('sample mean', fontsize=18)\n",
    "        axchisq_mu_n.set_title('Chi squared', fontsize=18)\n",
    "        axchisq_mu_n.plot([min(mysize), max(mysize)], [ad, ad], 'k')"
   ]
  },
  {
   "cell_type": "markdown",
   "metadata": {},
   "source": [
    "# Figure 8: Plotting the 100 samples of Chi-squared distribution. The mean of the ditribution is 100. By the law of large numbers, the sample means tend to closer to the distribution's population mean which is set at 100."
   ]
  },
  {
   "cell_type": "code",
   "execution_count": 1015,
   "metadata": {},
   "outputs": [],
   "source": [
    "## logistic Distribution "
   ]
  },
  {
   "cell_type": "code",
   "execution_count": 1016,
   "metadata": {},
   "outputs": [],
   "source": [
    "mylogmean = 100\n",
    "lm = mychisqmean\n",
    "np.random.seed(100)"
   ]
  },
  {
   "cell_type": "code",
   "execution_count": 1017,
   "metadata": {},
   "outputs": [
    {
     "data": {
      "text/plain": [
       "Text(0.5,1,'Mean of the Samples')"
      ]
     },
     "execution_count": 1017,
     "metadata": {},
     "output_type": "execute_result"
    },
    {
     "name": "stderr",
     "output_type": "stream",
     "text": [
      "/usr/local/Anaconda3-5.0.0-Linux-x86_64/envs/PUI2016_Python3/lib/python3.5/site-packages/matplotlib/font_manager.py:1316: UserWarning: findfont: Font family ['sans-serif'] not found. Falling back to DejaVu Sans\n",
      "  (prop.get_family(), self.defaultFamily[fontext]))\n"
     ]
    },
    {
     "data": {
      "image/png": "[encoded data removed]",
      "text/plain": [
       "<matplotlib.figure.Figure at 0x7f5ee87a16d8>"
      ]
     },
     "metadata": {},
     "output_type": "display_data"
    }
   ],
   "source": [
    "md['logistic'] = numpy.random.logistic(100, 1, 100)\n",
    "pl.hist(md['logistic'])\n",
    "pl.xlabel('N')\n",
    "pl.ylabel('X')\n",
    "pl.title('Mean of the Samples')"
   ]
  },
  {
   "cell_type": "markdown",
   "metadata": {},
   "source": [
    "# Figure 9: This is logistic distribution with mean as 100."
   ]
  },
  {
   "cell_type": "code",
   "execution_count": 1018,
   "metadata": {},
   "outputs": [
    {
     "name": "stdout",
     "output_type": "stream",
     "text": [
      "[2000 1000  666  500  400  333  285  250  222  200  181  166  153  142  133\n",
      "  125  117  111  105  100   95   90   86   83   80   76   74   71   68   66\n",
      "   64   62   60   58   57   55   54   52   51   50   48   47   46   45   44\n",
      "   43   42   41   40   40   39   38   37   37   36   35   35   34   33   33\n",
      "   32   32   31   31   30   30   29   29   28   28   28   27   27   27   26\n",
      "   26   25   25   25   25   24   24   24   23   23   23   22   22   22   22\n",
      "   21   21   21   21   21   20   20   20   20] (99,)\n"
     ]
    }
   ],
   "source": [
    "mysize = (2000 / (np.array(range(1, 100)))).astype(int)\n",
    "print (mysize, mysize.shape)"
   ]
  },
  {
   "cell_type": "code",
   "execution_count": 1019,
   "metadata": {},
   "outputs": [
    {
     "name": "stderr",
     "output_type": "stream",
     "text": [
      "/usr/local/Anaconda3-5.0.0-Linux-x86_64/envs/PUI2016_Python3/lib/python3.5/site-packages/matplotlib/font_manager.py:1316: UserWarning: findfont: Font family ['sans-serif'] not found. Falling back to DejaVu Sans\n",
      "  (prop.get_family(), self.defaultFamily[fontext]))\n"
     ]
    },
    {
     "data": {
      "image/png": "[encoded data removed]",
      "text/plain": [
       "<matplotlib.figure.Figure at 0x7f5ee611c710>"
      ]
     },
     "metadata": {},
     "output_type": "display_data"
    }
   ],
   "source": [
    "md['logistic'] = {} \n",
    "\n",
    "for n in mysize:\n",
    "    md['logistic'][n] = numpy.random.logistic(100, 1.0, n)\n",
    "    \n",
    "# save the means for plotting later    \n",
    "\n",
    "md['logistic']['means'] = {}\n",
    "logistic_mu_n = pl.figure(figsize=(10,6)).add_subplot(111)\n",
    "\n",
    "for nn in md['logistic']:\n",
    "    if not type(nn) == str:\n",
    "        md['logistic']['means'][nn] = md['logistic'][nn].mean()\n",
    "        #and plot it\n",
    "        logistic_mu_n.plot(nn, md['logistic']['means'][nn], 'o')\n",
    "        logistic_mu_n.set_xlabel('sample size', fontsize=18)\n",
    "        logistic_mu_n.set_ylabel('sample mean', fontsize=18)\n",
    "        logistic_mu_n.set_title('logistic Distribution', fontsize=18)\n",
    "        logistic_mu_n.plot([min(mysize), max(mysize)], [lm, lm], 'k')"
   ]
  },
  {
   "cell_type": "markdown",
   "metadata": {},
   "source": [
    "# Figure 10: Plotting the 100 samples of logistic distribution. The mean of the ditribution is 100. By the law of large numbers, the sample means tend to closer to the distribution's population mean which is set at 100."
   ]
  },
  {
   "cell_type": "code",
   "execution_count": 1020,
   "metadata": {},
   "outputs": [],
   "source": [
    "#Plot all histogram together "
   ]
  },
  {
   "cell_type": "code",
   "execution_count": 1021,
   "metadata": {},
   "outputs": [
    {
     "data": {
      "text/plain": [
       "array([ 133,   47,  142,  400,   20,   21,   22,   23,   24,  153,   26,\n",
       "         27,   28,  666,   30,   31,   32,   33,   34,   35,   36,   37,\n",
       "        166,   39,   40,   41,   42,   43,   44,   45,   46,  285,   48,\n",
       "         50,   51,   52,  181,   54,   55,   57,   58,   60,   62,   64,\n",
       "         66,   68,   71,  200,   74,   76,  333,   80,   83,   86,   90,\n",
       "        222,   95, 2000,  500,  100,   38, 1000,  105,   29,  111,   25,\n",
       "        117,  250,  125,  133,   47,  142,  400,   20,   21,   22,   23,\n",
       "         24,  153,   26,   27,   28,  666,   30,   31,   32,   33,   34,\n",
       "         35,   36,   37,  166,   39,   40,   41,   42,   43,   44,   45,\n",
       "         46,  285,   48,   50,   51,   52,  181,   54,   55,   57,   58,\n",
       "         60,   62,   64,   66,   68,   71,  200,   74,   76,  333,   80,\n",
       "         83,   86,   90,  222,   95, 2000,  500,  100,   38, 1000,  105,\n",
       "         29,  111,   25,  117,  250,  125,  133,   47,  142,  400,   20,\n",
       "         21,   22,   23,   24,  153,   26,   27,   28,  666,   30,   31,\n",
       "         32,   33,   34,   35,   36,   37,  166,   39,   40,   41,   42,\n",
       "         43,   44,   45,   46,  285,   48,   50,   51,   52,  181,   54,\n",
       "         55,   57,   58,   60,   62,   64,   66,   68,   71,  200,   74,\n",
       "         76,  333,   80,   83,   86,   90,  222,   95, 2000,  500,  100,\n",
       "         38, 1000,  105,   29,  111,   25,  117,  250,  125,  133,   47,\n",
       "        142,  400,   20,   21,   22,   23,   24,  153,   26,   27,   28,\n",
       "        666,   30,   31,   32,   33,   34,   35,   36,   37,  166,   39,\n",
       "         40,   41,   42,   43,   44,   45,   46,  285,   48,   50,   51,\n",
       "         52,  181,   54,   55,   57,   58,   60,   62,   64,   66,   68,\n",
       "         71,  200,   74,   76,  333,   80,   83,   86,   90,  222,   95,\n",
       "       2000,  500,  100,   38, 1000,  105,   29,  111,   25,  117,  250,\n",
       "        125,  133,   47,  142,  400,   20,   21,   22,   23,   24,  153,\n",
       "         26,   27,   28,  666,   30,   31,   32,   33,   34,   35,   36,\n",
       "         37,  166,   39,   40,   41,   42,   43,   44,   45,   46,  285,\n",
       "         48,   50,   51,   52,  181,   54,   55,   57,   58,   60,   62,\n",
       "         64,   66,   68,   71,  200,   74,   76,  333,   80,   83,   86,\n",
       "         90,  222,   95, 2000,  500,  100,   38, 1000,  105,   29,  111,\n",
       "         25,  117,  250,  125])"
      ]
     },
     "execution_count": 1021,
     "metadata": {},
     "output_type": "execute_result"
    }
   ],
   "source": [
    "_xs"
   ]
  },
  {
   "cell_type": "code",
   "execution_count": 1030,
   "metadata": {},
   "outputs": [
    {
     "data": {
      "text/plain": [
       "(array([   5.,    1.,    1.,    8.,   29.,  149.,  114.,   22.,   11.,    5.]),\n",
       " array([  93.61993588,   94.68509059,   95.75024529,   96.8154    ,\n",
       "          97.88055471,   98.94570942,  100.01086413,  101.07601884,\n",
       "         102.14117355,  103.20632826,  104.27148297]),\n",
       " <a list of 10 Patch objects>)"
      ]
     },
     "execution_count": 1030,
     "metadata": {},
     "output_type": "execute_result"
    },
    {
     "name": "stderr",
     "output_type": "stream",
     "text": [
      "/usr/local/Anaconda3-5.0.0-Linux-x86_64/envs/PUI2016_Python3/lib/python3.5/site-packages/matplotlib/font_manager.py:1316: UserWarning: findfont: Font family ['sans-serif'] not found. Falling back to DejaVu Sans\n",
      "  (prop.get_family(), self.defaultFamily[fontext]))\n"
     ]
    },
    {
     "data": {
      "image/png": "[encoded data removed]",
      "text/plain": [
       "<matplotlib.figure.Figure at 0x7f5ee8e48898>"
      ]
     },
     "metadata": {},
     "output_type": "display_data"
    }
   ],
   "source": [
    "_xs = []\n",
    "for d in ['gaus','pois','binomial','logistic','chisq']:\n",
    "    _xs += md[d]['means'].values()\n",
    "\n",
    "_xs = np.asarray(_xs)\n",
    "fig = pl.figure(figsize=(16,12))\n",
    "ax = fig.gca()\n",
    "pl.hist(_xs)"
   ]
  },
  {
   "cell_type": "markdown",
   "metadata": {},
   "source": [
    "# Figure 11: Draw all the sample, we get similar shape of normal distribution. "
   ]
  },
  {
   "cell_type": "code",
   "execution_count": 1023,
   "metadata": {},
   "outputs": [
    {
     "name": "stdout",
     "output_type": "stream",
     "text": [
      "gaus {133: array([  97.181347  ,  100.82717756,  100.86211901,   99.47597983,\n",
      "        100.55580647,   99.\n",
      "logistic {133: array([ 103.48579779,  102.23249269,   97.94161767,   96.9992931 ,\n",
      "         99.55823576,  100.\n",
      "pois {133: array([100, 110,  99, 100,  83, 103,  94, 108, 126,  92, 103, 101,  98,\n",
      "       113, 100, 108, \n",
      "binomial {133: array([ 84,  95,  92, 119,  83, 102, 104,  98, 107, 108,  92, 103, 115,\n",
      "       101, 105, 112, \n",
      "chisq {133: array([  94.26016405,  104.92387646,   93.75555146,  113.7319896 ,\n",
      "         84.59560148,  125.\n"
     ]
    }
   ],
   "source": [
    "for k, v in md.items():\n",
    "    print(k, str(v)[:100])"
   ]
  },
  {
   "cell_type": "code",
   "execution_count": null,
   "metadata": {},
   "outputs": [],
   "source": []
  },
  {
   "cell_type": "code",
   "execution_count": null,
   "metadata": {},
   "outputs": [],
   "source": []
  }
 ],
 "metadata": {
  "kernelspec": {
   "display_name": "PUI2016_Python3",
   "language": "python",
   "name": "pui2016_python3"
  },
  "language_info": {
   "codemirror_mode": {
    "name": "ipython",
    "version": 3
   },
   "file_extension": ".py",
   "mimetype": "text/x-python",
   "name": "python",
   "nbconvert_exporter": "python",
   "pygments_lexer": "ipython3",
   "version": "3.5.4"
  }
 },
 "nbformat": 4,
 "nbformat_minor": 2
}
