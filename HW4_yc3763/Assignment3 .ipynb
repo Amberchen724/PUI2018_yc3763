{
 "cells": [
  {
   "cell_type": "code",
   "execution_count": 15,
   "metadata": {},
   "outputs": [],
   "source": [
    "import numpy as np\n",
    "import os\n",
    "import pandas as pd\n",
    "import sys\n",
    "%matplotlib inline"
   ]
  },
  {
   "cell_type": "code",
   "execution_count": 2,
   "metadata": {},
   "outputs": [],
   "source": [
    "import geopandas as gpd"
   ]
  },
  {
   "cell_type": "code",
   "execution_count": 13,
   "metadata": {},
   "outputs": [
    {
     "name": "stdout",
     "output_type": "stream",
     "text": [
      "reg_res_idw.CPG  reg_res_idw.sbn  reg_res_idw.shp.NV-NYU-RDS2.5636.9808.sr.lock\n",
      "reg_res_idw.dbf  reg_res_idw.sbx  reg_res_idw.shp.xml\n",
      "reg_res_idw.prj  reg_res_idw.shp  reg_res_idw.shx\n"
     ]
    }
   ],
   "source": [
    "!cd ~; cd yushi; cd USA/project2/shp/idw_res; ls"
   ]
  },
  {
   "cell_type": "code",
   "execution_count": 17,
   "metadata": {},
   "outputs": [
    {
     "data": {
      "text/html": [
       "<div>\n",
       "<table border=\"1\" class=\"dataframe\">\n",
       "  <thead>\n",
       "    <tr style=\"text-align: right;\">\n",
       "      <th></th>\n",
       "      <th>Measured</th>\n",
       "      <th>Predicted</th>\n",
       "      <th>Error</th>\n",
       "      <th>Source_ID</th>\n",
       "      <th>Included</th>\n",
       "      <th>Shape_Leng</th>\n",
       "      <th>Shape_Area</th>\n",
       "      <th>geometry</th>\n",
       "    </tr>\n",
       "  </thead>\n",
       "  <tbody>\n",
       "    <tr>\n",
       "      <th>0</th>\n",
       "      <td>108.0</td>\n",
       "      <td>69.528129</td>\n",
       "      <td>-38.471871</td>\n",
       "      <td>1</td>\n",
       "      <td>Yes</td>\n",
       "      <td>0.163067</td>\n",
       "      <td>0.000972</td>\n",
       "      <td>POLYGON ((-73.89641133483127 40.9045045208203,...</td>\n",
       "    </tr>\n",
       "    <tr>\n",
       "      <th>1</th>\n",
       "      <td>105.0</td>\n",
       "      <td>90.808291</td>\n",
       "      <td>-14.191709</td>\n",
       "      <td>2</td>\n",
       "      <td>Yes</td>\n",
       "      <td>0.347990</td>\n",
       "      <td>0.001876</td>\n",
       "      <td>POLYGON ((-73.84423146899854 40.86942035096848...</td>\n",
       "    </tr>\n",
       "    <tr>\n",
       "      <th>2</th>\n",
       "      <td>66.0</td>\n",
       "      <td>103.500425</td>\n",
       "      <td>37.500425</td>\n",
       "      <td>3</td>\n",
       "      <td>Yes</td>\n",
       "      <td>0.964305</td>\n",
       "      <td>0.002649</td>\n",
       "      <td>(POLYGON ((-73.78833349834531 40.8346671297594...</td>\n",
       "    </tr>\n",
       "    <tr>\n",
       "      <th>3</th>\n",
       "      <td>104.0</td>\n",
       "      <td>76.524169</td>\n",
       "      <td>-27.475831</td>\n",
       "      <td>4</td>\n",
       "      <td>Yes</td>\n",
       "      <td>0.153547</td>\n",
       "      <td>0.001054</td>\n",
       "      <td>POLYGON ((-73.84792614069238 40.87134223307794...</td>\n",
       "    </tr>\n",
       "    <tr>\n",
       "      <th>4</th>\n",
       "      <td>662.0</td>\n",
       "      <td>242.410285</td>\n",
       "      <td>-419.589715</td>\n",
       "      <td>5</td>\n",
       "      <td>Yes</td>\n",
       "      <td>0.154277</td>\n",
       "      <td>0.000802</td>\n",
       "      <td>POLYGON ((-73.95374853778469 40.63858633758554...</td>\n",
       "    </tr>\n",
       "  </tbody>\n",
       "</table>\n",
       "</div>"
      ],
      "text/plain": [
       "   Measured   Predicted       Error  Source_ID Included  Shape_Leng  \\\n",
       "0     108.0   69.528129  -38.471871          1      Yes    0.163067   \n",
       "1     105.0   90.808291  -14.191709          2      Yes    0.347990   \n",
       "2      66.0  103.500425   37.500425          3      Yes    0.964305   \n",
       "3     104.0   76.524169  -27.475831          4      Yes    0.153547   \n",
       "4     662.0  242.410285 -419.589715          5      Yes    0.154277   \n",
       "\n",
       "   Shape_Area                                           geometry  \n",
       "0    0.000972  POLYGON ((-73.89641133483127 40.9045045208203,...  \n",
       "1    0.001876  POLYGON ((-73.84423146899854 40.86942035096848...  \n",
       "2    0.002649  (POLYGON ((-73.78833349834531 40.8346671297594...  \n",
       "3    0.001054  POLYGON ((-73.84792614069238 40.87134223307794...  \n",
       "4    0.000802  POLYGON ((-73.95374853778469 40.63858633758554...  "
      ]
     },
     "execution_count": 17,
     "metadata": {},
     "output_type": "execute_result"
    }
   ],
   "source": [
    "shp  = gpd.read_file('/nfshome/yc3763/yushi/USA/project2/shp/idw_res/reg_res_idw.shp')\n",
    "shp.head()"
   ]
  },
  {
   "cell_type": "code",
   "execution_count": 31,
   "metadata": {},
   "outputs": [],
   "source": [
    "url = \"https://raw.githubusercontent.com/fedhere/PUI2018_fb55/master/Lab4_fb55/times.txt\"     "
   ]
  },
  {
   "cell_type": "markdown",
   "metadata": {},
   "source": [
    "Question: is the new Bus route improving commute?\n",
    "\n",
    "H0: the commute time is on average the same or longer with the new bus route as it was before: Tnew >= Told\n",
    "\n",
    "Ha: the commute time is shorter with the new bus route than it was before: Tnew < Told\n",
    "\n",
    "I set the significance level as: $\\alpha=0.05$"
   ]
  },
  {
   "cell_type": "code",
   "execution_count": 32,
   "metadata": {},
   "outputs": [],
   "source": [
    "bus = pd.read_csv(url, sep=\",\", names = [\"Commute Time\"])"
   ]
  },
  {
   "cell_type": "code",
   "execution_count": 33,
   "metadata": {},
   "outputs": [
    {
     "data": {
      "text/html": [
       "<div>\n",
       "<table border=\"1\" class=\"dataframe\">\n",
       "  <thead>\n",
       "    <tr style=\"text-align: right;\">\n",
       "      <th></th>\n",
       "      <th>Commute Time</th>\n",
       "    </tr>\n",
       "  </thead>\n",
       "  <tbody>\n",
       "    <tr>\n",
       "      <th>0</th>\n",
       "      <td>31.622239</td>\n",
       "    </tr>\n",
       "    <tr>\n",
       "      <th>1</th>\n",
       "      <td>32.821376</td>\n",
       "    </tr>\n",
       "    <tr>\n",
       "      <th>2</th>\n",
       "      <td>30.229101</td>\n",
       "    </tr>\n",
       "    <tr>\n",
       "      <th>3</th>\n",
       "      <td>31.413766</td>\n",
       "    </tr>\n",
       "    <tr>\n",
       "      <th>4</th>\n",
       "      <td>39.010550</td>\n",
       "    </tr>\n",
       "  </tbody>\n",
       "</table>\n",
       "</div>"
      ],
      "text/plain": [
       "   Commute Time\n",
       "0     31.622239\n",
       "1     32.821376\n",
       "2     30.229101\n",
       "3     31.413766\n",
       "4     39.010550"
      ]
     },
     "execution_count": 33,
     "metadata": {},
     "output_type": "execute_result"
    }
   ],
   "source": [
    "bus.head()"
   ]
  },
  {
   "cell_type": "code",
   "execution_count": 37,
   "metadata": {},
   "outputs": [
    {
     "name": "stdout",
     "output_type": "stream",
     "text": [
      "Mean: 34.4661616883 \n",
      "Standard Deviation: 7.13728013375\n"
     ]
    }
   ],
   "source": [
    "x = bus['Commute Time'].mean()\n",
    "y = bus['Commute Time'].std()\n",
    "N = len(bus)\n",
    "print (\"Mean:\", x, \"\\nStandard Deviation:\", y)"
   ]
  },
  {
   "cell_type": "code",
   "execution_count": 38,
   "metadata": {},
   "outputs": [],
   "source": [
    "pmean = 36\n",
    "pstd = 6"
   ]
  },
  {
   "cell_type": "code",
   "execution_count": 39,
   "metadata": {},
   "outputs": [
    {
     "name": "stdout",
     "output_type": "stream",
     "text": [
      "2.55639718617\n"
     ]
    }
   ],
   "source": [
    "# Calculating Z score \n",
    "a = pmean - x \n",
    "b = pstd / np.sqrt(N)\n",
    "zscore= a/b\n",
    "print(zscore)"
   ]
  },
  {
   "cell_type": "markdown",
   "metadata": {},
   "source": [
    "The Z-test score is 2.556, which is higher than the significant level 0.05, correspondence to 2 signma, as i setted before, thus the null hypothsis can be rejected. It also means that the new bus route is effecient on commuting time. "
   ]
  },
  {
   "cell_type": "code",
   "execution_count": null,
   "metadata": {},
   "outputs": [],
   "source": []
  }
 ],
 "metadata": {
  "kernelspec": {
   "display_name": "PUI2016_Python3",
   "language": "python",
   "name": "pui2016_python3"
  },
  "language_info": {
   "codemirror_mode": {
    "name": "ipython",
    "version": 3
   },
   "file_extension": ".py",
   "mimetype": "text/x-python",
   "name": "python",
   "nbconvert_exporter": "python",
   "pygments_lexer": "ipython3",
   "version": "3.5.4"
  }
 },
 "nbformat": 4,
 "nbformat_minor": 2
}
