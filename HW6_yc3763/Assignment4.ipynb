{
 "cells": [
  {
   "cell_type": "markdown",
   "metadata": {
    "collapsed": true,
    "run_control": {
     "frozen": false,
     "read_only": false
    }
   },
   "source": [
    "# Skeleton of Assignment 4:\n",
    "    test if the distribution of \n",
    "    \n",
    "    1) trip duration of bikers that ride during the day vs night\n",
    "    \n",
    "    2) age of bikers for trips originating in Manhattan and in Brooklyn (extra credit)\n",
    "    \n",
    "    are different. Use 3 tests: KS, Pearson's, Spearman's. \n",
    "    \n",
    "    Use the scipy.stats functions scipy.stats.ks_2samp, scipy.stats.pearsonr, scipy.stats.spearmanr. \n",
    "    \n",
    "    For the KS do the test with the entire dataset and with a subset 200 times smaller\n",
    "    \n",
    "    Choose a single significant threshold for the whole exercise. \n",
    "    \n",
    "    For each test phrase the Null Hypothesis in words.\n",
    "    \n",
    "    Describe the return of the scipy function you use in each case.\n",
    "    \n",
    "    State the result in terms of rejection of the Null."
   ]
  },
  {
   "cell_type": "code",
   "execution_count": 2,
   "metadata": {},
   "outputs": [],
   "source": [
    "import numpy as np\n",
    "import os\n",
    "import sys\n",
    "\n",
    "#check if the env variable PUIDATA exists\n",
    "if os.getenv(\"PUIDATA\") is None:\n",
    "    print (\"must set PUIDATA env variable\")\n",
    "    sys.exit()\n",
    "\n",
    "def getCitiBikeCSV(datestring):\n",
    "    '''Downloads citibike data and unzips it. If the data is downloaded by not unzippeds it zips it. Moves the data to $PUIDATA\n",
    "    Arguments:\n",
    "        date string as yyyymm\n",
    "    '''\n",
    "    print (\"Downloading\", datestring)\n",
    "    ### First I will heck that it is not already there\n",
    "    if not os.path.isfile(os.getenv(\"PUIDATA\") + \"/\" + datestring + \"-citibike-tripdata.csv\"):\n",
    "        if os.path.isfile(datestring + \"-citibike-tripdata.csv\"):\n",
    "            # if in the current dir just move it\n",
    "            if os.system(\"mv \" + datestring + \"-citibike-tripdata.csv \" + os.getenv(\"PUIDATA\")):\n",
    "                print (\"Error moving file!, Please check!\")\n",
    "        #otherwise start looking for the zip file\n",
    "        else:\n",
    "            if not os.path.isfile(os.getenv(\"PUIDATA\") + \"/\" + datestring + \"-citibike-tripdata.zip\"):\n",
    "                if not os.path.isfile(datestring + \"-citibike-tripdata.zip\"):\n",
    "                    os.system(\"curl -O https://s3.amazonaws.com/tripdata/\" + datestring + \"-citibike-tripdata.zip\")\n",
    "                ###  To move it I use the os.system() functions to run bash commands with arguments\n",
    "                os.system(\"mv \" + datestring + \"-citibike-tripdata.zip \" + os.getenv(\"PUIDATA\"))\n",
    "            ### unzip the csv \n",
    "            os.system(\"unzip \" + os.getenv(\"PUIDATA\") + \"/\" + datestring + \"-citibike-tripdata.zip\")\n",
    "            ## NOTE: old csv citibike data had a different name structure. \n",
    "            if '2014' in datestring:\n",
    "                os.system(\"mv \" + datestring[:4] + '-' +  datestring[4:] + \n",
    "                          \"\\ -\\ Citi\\ Bike\\ trip\\ data.csv \" + datestring + \"-citibike-tripdata.csv\")\n",
    "            os.system(\"mv \" + datestring + \"-citibike-tripdata.csv \" + os.getenv(\"PUIDATA\"))\n",
    "    ### One final check:\n",
    "    if not os.path.isfile(os.getenv(\"PUIDATA\") + \"/\" + datestring + \"-citibike-tripdata.csv\"):\n",
    "        print (\"WARNING!!! something is wrong: the file is not there!\")\n",
    "\n",
    "    else:\n",
    "        print (\"file in place, you can continue\")"
   ]
  },
  {
   "cell_type": "code",
   "execution_count": 3,
   "metadata": {
    "ExecuteTime": {
     "end_time": "2017-10-05T16:48:06.390950",
     "start_time": "2017-10-05T16:48:04.815178"
    },
    "run_control": {
     "frozen": false,
     "read_only": false
    },
    "scrolled": true
   },
   "outputs": [
    {
     "name": "stdout",
     "output_type": "stream",
     "text": [
      "Populating the interactive namespace from numpy and matplotlib\n"
     ]
    }
   ],
   "source": [
    "# my usual imports and setups\n",
    "import pylab as pl\n",
    "import pandas as pd\n",
    "import numpy as np\n",
    "#imports downloader\n",
    "from getCitiBikeCSV import getCitiBikeCSV\n",
    "\n",
    "%pylab inline\n",
    "\n",
    "import os\n",
    "#this makes my plots pretty! but it is totally not mandatory to do it\n",
    "DEVELOPING = False\n",
    "\n",
    "#chose day hours vs night hours:\n",
    "DAYTIME = (6, 18)"
   ]
  },
  {
   "cell_type": "markdown",
   "metadata": {
    "run_control": {
     "frozen": false,
     "read_only": false
    }
   },
   "source": [
    "# Read in data\n",
    "I am reading in data from January 2015 with the function that I created getCitiBikeCSV. You are requested to use 2 months at least. It would be a good idea to use data from a colder and a warmer months, since there are more riders in the warm weather and ridership patterns may change with weather, temperature, etc. You should use data from multiple months, joining multiple datasets (thus addressing some systematic errors as well)"
   ]
  },
  {
   "cell_type": "code",
   "execution_count": 4,
   "metadata": {
    "ExecuteTime": {
     "end_time": "2017-10-05T16:48:09.386484",
     "start_time": "2017-10-05T16:48:06.821336"
    },
    "run_control": {
     "frozen": false,
     "read_only": false
    }
   },
   "outputs": [
    {
     "name": "stdout",
     "output_type": "stream",
     "text": [
      "Downloading 201501\n",
      "file in place, you can continue\n"
     ]
    }
   ],
   "source": [
    "datestring = '201501'\n",
    "getCitiBikeCSV(datestring)"
   ]
  },
  {
   "cell_type": "code",
   "execution_count": 5,
   "metadata": {
    "ExecuteTime": {
     "end_time": "2017-10-05T16:48:11.528975",
     "start_time": "2017-10-05T16:48:10.267002"
    },
    "run_control": {
     "frozen": false,
     "read_only": false
    }
   },
   "outputs": [
    {
     "data": {
      "text/html": [
       "<div>\n",
       "<table border=\"1\" class=\"dataframe\">\n",
       "  <thead>\n",
       "    <tr style=\"text-align: right;\">\n",
       "      <th></th>\n",
       "      <th>tripduration</th>\n",
       "      <th>starttime</th>\n",
       "      <th>stoptime</th>\n",
       "      <th>start station id</th>\n",
       "      <th>start station name</th>\n",
       "      <th>start station latitude</th>\n",
       "      <th>start station longitude</th>\n",
       "      <th>end station id</th>\n",
       "      <th>end station name</th>\n",
       "      <th>end station latitude</th>\n",
       "      <th>end station longitude</th>\n",
       "      <th>bikeid</th>\n",
       "      <th>usertype</th>\n",
       "      <th>birth year</th>\n",
       "      <th>gender</th>\n",
       "    </tr>\n",
       "  </thead>\n",
       "  <tbody>\n",
       "    <tr>\n",
       "      <th>0</th>\n",
       "      <td>1346</td>\n",
       "      <td>1/1/2015 0:01</td>\n",
       "      <td>1/1/2015 0:24</td>\n",
       "      <td>455</td>\n",
       "      <td>1 Ave &amp; E 44 St</td>\n",
       "      <td>40.750020</td>\n",
       "      <td>-73.969053</td>\n",
       "      <td>265</td>\n",
       "      <td>Stanton St &amp; Chrystie St</td>\n",
       "      <td>40.722293</td>\n",
       "      <td>-73.991475</td>\n",
       "      <td>18660</td>\n",
       "      <td>Subscriber</td>\n",
       "      <td>1960.0</td>\n",
       "      <td>2</td>\n",
       "    </tr>\n",
       "    <tr>\n",
       "      <th>1</th>\n",
       "      <td>363</td>\n",
       "      <td>1/1/2015 0:02</td>\n",
       "      <td>1/1/2015 0:08</td>\n",
       "      <td>434</td>\n",
       "      <td>9 Ave &amp; W 18 St</td>\n",
       "      <td>40.743174</td>\n",
       "      <td>-74.003664</td>\n",
       "      <td>482</td>\n",
       "      <td>W 15 St &amp; 7 Ave</td>\n",
       "      <td>40.739355</td>\n",
       "      <td>-73.999318</td>\n",
       "      <td>16085</td>\n",
       "      <td>Subscriber</td>\n",
       "      <td>1963.0</td>\n",
       "      <td>1</td>\n",
       "    </tr>\n",
       "    <tr>\n",
       "      <th>2</th>\n",
       "      <td>346</td>\n",
       "      <td>1/1/2015 0:04</td>\n",
       "      <td>1/1/2015 0:10</td>\n",
       "      <td>491</td>\n",
       "      <td>E 24 St &amp; Park Ave S</td>\n",
       "      <td>40.740964</td>\n",
       "      <td>-73.986022</td>\n",
       "      <td>505</td>\n",
       "      <td>6 Ave &amp; W 33 St</td>\n",
       "      <td>40.749013</td>\n",
       "      <td>-73.988484</td>\n",
       "      <td>20845</td>\n",
       "      <td>Subscriber</td>\n",
       "      <td>1974.0</td>\n",
       "      <td>1</td>\n",
       "    </tr>\n",
       "    <tr>\n",
       "      <th>3</th>\n",
       "      <td>182</td>\n",
       "      <td>1/1/2015 0:04</td>\n",
       "      <td>1/1/2015 0:07</td>\n",
       "      <td>384</td>\n",
       "      <td>Fulton St &amp; Waverly Ave</td>\n",
       "      <td>40.683178</td>\n",
       "      <td>-73.965964</td>\n",
       "      <td>399</td>\n",
       "      <td>Lafayette Ave &amp; St James Pl</td>\n",
       "      <td>40.688515</td>\n",
       "      <td>-73.964763</td>\n",
       "      <td>19610</td>\n",
       "      <td>Subscriber</td>\n",
       "      <td>1969.0</td>\n",
       "      <td>1</td>\n",
       "    </tr>\n",
       "    <tr>\n",
       "      <th>4</th>\n",
       "      <td>969</td>\n",
       "      <td>1/1/2015 0:05</td>\n",
       "      <td>1/1/2015 0:21</td>\n",
       "      <td>474</td>\n",
       "      <td>5 Ave &amp; E 29 St</td>\n",
       "      <td>40.745168</td>\n",
       "      <td>-73.986831</td>\n",
       "      <td>432</td>\n",
       "      <td>E 7 St &amp; Avenue A</td>\n",
       "      <td>40.726218</td>\n",
       "      <td>-73.983799</td>\n",
       "      <td>20197</td>\n",
       "      <td>Subscriber</td>\n",
       "      <td>1977.0</td>\n",
       "      <td>1</td>\n",
       "    </tr>\n",
       "  </tbody>\n",
       "</table>\n",
       "</div>"
      ],
      "text/plain": [
       "   tripduration      starttime       stoptime  start station id  \\\n",
       "0          1346  1/1/2015 0:01  1/1/2015 0:24               455   \n",
       "1           363  1/1/2015 0:02  1/1/2015 0:08               434   \n",
       "2           346  1/1/2015 0:04  1/1/2015 0:10               491   \n",
       "3           182  1/1/2015 0:04  1/1/2015 0:07               384   \n",
       "4           969  1/1/2015 0:05  1/1/2015 0:21               474   \n",
       "\n",
       "        start station name  start station latitude  start station longitude  \\\n",
       "0          1 Ave & E 44 St               40.750020               -73.969053   \n",
       "1          9 Ave & W 18 St               40.743174               -74.003664   \n",
       "2     E 24 St & Park Ave S               40.740964               -73.986022   \n",
       "3  Fulton St & Waverly Ave               40.683178               -73.965964   \n",
       "4          5 Ave & E 29 St               40.745168               -73.986831   \n",
       "\n",
       "   end station id             end station name  end station latitude  \\\n",
       "0             265     Stanton St & Chrystie St             40.722293   \n",
       "1             482              W 15 St & 7 Ave             40.739355   \n",
       "2             505              6 Ave & W 33 St             40.749013   \n",
       "3             399  Lafayette Ave & St James Pl             40.688515   \n",
       "4             432            E 7 St & Avenue A             40.726218   \n",
       "\n",
       "   end station longitude  bikeid    usertype  birth year  gender  \n",
       "0             -73.991475   18660  Subscriber      1960.0       2  \n",
       "1             -73.999318   16085  Subscriber      1963.0       1  \n",
       "2             -73.988484   20845  Subscriber      1974.0       1  \n",
       "3             -73.964763   19610  Subscriber      1969.0       1  \n",
       "4             -73.983799   20197  Subscriber      1977.0       1  "
      ]
     },
     "execution_count": 5,
     "metadata": {},
     "output_type": "execute_result"
    }
   ],
   "source": [
    "df = pd.read_csv(os.getenv(\"PUIDATA\") + \"/\" + datestring + '-citibike-tripdata.csv')\n",
    "df.head()"
   ]
  },
  {
   "cell_type": "code",
   "execution_count": 6,
   "metadata": {
    "ExecuteTime": {
     "end_time": "2017-10-05T16:51:52.008367",
     "start_time": "2017-10-05T16:48:18.977948"
    },
    "run_control": {
     "frozen": false,
     "read_only": false
    }
   },
   "outputs": [
    {
     "data": {
      "text/html": [
       "<div>\n",
       "<table border=\"1\" class=\"dataframe\">\n",
       "  <thead>\n",
       "    <tr style=\"text-align: right;\">\n",
       "      <th></th>\n",
       "      <th>tripduration</th>\n",
       "      <th>starttime</th>\n",
       "      <th>stoptime</th>\n",
       "      <th>start station id</th>\n",
       "      <th>start station name</th>\n",
       "      <th>start station latitude</th>\n",
       "      <th>start station longitude</th>\n",
       "      <th>end station id</th>\n",
       "      <th>end station name</th>\n",
       "      <th>end station latitude</th>\n",
       "      <th>end station longitude</th>\n",
       "      <th>bikeid</th>\n",
       "      <th>usertype</th>\n",
       "      <th>birth year</th>\n",
       "      <th>gender</th>\n",
       "      <th>date</th>\n",
       "    </tr>\n",
       "  </thead>\n",
       "  <tbody>\n",
       "    <tr>\n",
       "      <th>0</th>\n",
       "      <td>1346</td>\n",
       "      <td>1/1/2015 0:01</td>\n",
       "      <td>1/1/2015 0:24</td>\n",
       "      <td>455</td>\n",
       "      <td>1 Ave &amp; E 44 St</td>\n",
       "      <td>40.750020</td>\n",
       "      <td>-73.969053</td>\n",
       "      <td>265</td>\n",
       "      <td>Stanton St &amp; Chrystie St</td>\n",
       "      <td>40.722293</td>\n",
       "      <td>-73.991475</td>\n",
       "      <td>18660</td>\n",
       "      <td>Subscriber</td>\n",
       "      <td>1960.0</td>\n",
       "      <td>2</td>\n",
       "      <td>2015-01-01 00:01:00</td>\n",
       "    </tr>\n",
       "    <tr>\n",
       "      <th>1</th>\n",
       "      <td>363</td>\n",
       "      <td>1/1/2015 0:02</td>\n",
       "      <td>1/1/2015 0:08</td>\n",
       "      <td>434</td>\n",
       "      <td>9 Ave &amp; W 18 St</td>\n",
       "      <td>40.743174</td>\n",
       "      <td>-74.003664</td>\n",
       "      <td>482</td>\n",
       "      <td>W 15 St &amp; 7 Ave</td>\n",
       "      <td>40.739355</td>\n",
       "      <td>-73.999318</td>\n",
       "      <td>16085</td>\n",
       "      <td>Subscriber</td>\n",
       "      <td>1963.0</td>\n",
       "      <td>1</td>\n",
       "      <td>2015-01-01 00:02:00</td>\n",
       "    </tr>\n",
       "    <tr>\n",
       "      <th>2</th>\n",
       "      <td>346</td>\n",
       "      <td>1/1/2015 0:04</td>\n",
       "      <td>1/1/2015 0:10</td>\n",
       "      <td>491</td>\n",
       "      <td>E 24 St &amp; Park Ave S</td>\n",
       "      <td>40.740964</td>\n",
       "      <td>-73.986022</td>\n",
       "      <td>505</td>\n",
       "      <td>6 Ave &amp; W 33 St</td>\n",
       "      <td>40.749013</td>\n",
       "      <td>-73.988484</td>\n",
       "      <td>20845</td>\n",
       "      <td>Subscriber</td>\n",
       "      <td>1974.0</td>\n",
       "      <td>1</td>\n",
       "      <td>2015-01-01 00:04:00</td>\n",
       "    </tr>\n",
       "    <tr>\n",
       "      <th>3</th>\n",
       "      <td>182</td>\n",
       "      <td>1/1/2015 0:04</td>\n",
       "      <td>1/1/2015 0:07</td>\n",
       "      <td>384</td>\n",
       "      <td>Fulton St &amp; Waverly Ave</td>\n",
       "      <td>40.683178</td>\n",
       "      <td>-73.965964</td>\n",
       "      <td>399</td>\n",
       "      <td>Lafayette Ave &amp; St James Pl</td>\n",
       "      <td>40.688515</td>\n",
       "      <td>-73.964763</td>\n",
       "      <td>19610</td>\n",
       "      <td>Subscriber</td>\n",
       "      <td>1969.0</td>\n",
       "      <td>1</td>\n",
       "      <td>2015-01-01 00:04:00</td>\n",
       "    </tr>\n",
       "    <tr>\n",
       "      <th>4</th>\n",
       "      <td>969</td>\n",
       "      <td>1/1/2015 0:05</td>\n",
       "      <td>1/1/2015 0:21</td>\n",
       "      <td>474</td>\n",
       "      <td>5 Ave &amp; E 29 St</td>\n",
       "      <td>40.745168</td>\n",
       "      <td>-73.986831</td>\n",
       "      <td>432</td>\n",
       "      <td>E 7 St &amp; Avenue A</td>\n",
       "      <td>40.726218</td>\n",
       "      <td>-73.983799</td>\n",
       "      <td>20197</td>\n",
       "      <td>Subscriber</td>\n",
       "      <td>1977.0</td>\n",
       "      <td>1</td>\n",
       "      <td>2015-01-01 00:05:00</td>\n",
       "    </tr>\n",
       "  </tbody>\n",
       "</table>\n",
       "</div>"
      ],
      "text/plain": [
       "   tripduration      starttime       stoptime  start station id  \\\n",
       "0          1346  1/1/2015 0:01  1/1/2015 0:24               455   \n",
       "1           363  1/1/2015 0:02  1/1/2015 0:08               434   \n",
       "2           346  1/1/2015 0:04  1/1/2015 0:10               491   \n",
       "3           182  1/1/2015 0:04  1/1/2015 0:07               384   \n",
       "4           969  1/1/2015 0:05  1/1/2015 0:21               474   \n",
       "\n",
       "        start station name  start station latitude  start station longitude  \\\n",
       "0          1 Ave & E 44 St               40.750020               -73.969053   \n",
       "1          9 Ave & W 18 St               40.743174               -74.003664   \n",
       "2     E 24 St & Park Ave S               40.740964               -73.986022   \n",
       "3  Fulton St & Waverly Ave               40.683178               -73.965964   \n",
       "4          5 Ave & E 29 St               40.745168               -73.986831   \n",
       "\n",
       "   end station id             end station name  end station latitude  \\\n",
       "0             265     Stanton St & Chrystie St             40.722293   \n",
       "1             482              W 15 St & 7 Ave             40.739355   \n",
       "2             505              6 Ave & W 33 St             40.749013   \n",
       "3             399  Lafayette Ave & St James Pl             40.688515   \n",
       "4             432            E 7 St & Avenue A             40.726218   \n",
       "\n",
       "   end station longitude  bikeid    usertype  birth year  gender  \\\n",
       "0             -73.991475   18660  Subscriber      1960.0       2   \n",
       "1             -73.999318   16085  Subscriber      1963.0       1   \n",
       "2             -73.988484   20845  Subscriber      1974.0       1   \n",
       "3             -73.964763   19610  Subscriber      1969.0       1   \n",
       "4             -73.983799   20197  Subscriber      1977.0       1   \n",
       "\n",
       "                 date  \n",
       "0 2015-01-01 00:01:00  \n",
       "1 2015-01-01 00:02:00  \n",
       "2 2015-01-01 00:04:00  \n",
       "3 2015-01-01 00:04:00  \n",
       "4 2015-01-01 00:05:00  "
      ]
     },
     "execution_count": 6,
     "metadata": {},
     "output_type": "execute_result"
    }
   ],
   "source": [
    "# df is the dataframe where the content of the csv file is stored\n",
    "df['date'] = pd.to_datetime(df['starttime'])\n",
    "# note that with dataframes I can refer to variables as dictionary keys, \n",
    "# i.e. df['starttime'] or as attributes: df.starttime. \n",
    "df.head()"
   ]
  },
  {
   "cell_type": "code",
   "execution_count": 7,
   "metadata": {
    "run_control": {
     "frozen": false,
     "read_only": false
    }
   },
   "outputs": [
    {
     "data": {
      "text/plain": [
       "Index(['tripduration', 'starttime', 'stoptime', 'start station id',\n",
       "       'start station name', 'start station latitude',\n",
       "       'start station longitude', 'end station id', 'end station name',\n",
       "       'end station latitude', 'end station longitude', 'bikeid', 'usertype',\n",
       "       'birth year', 'gender', 'date'],\n",
       "      dtype='object')"
      ]
     },
     "execution_count": 7,
     "metadata": {},
     "output_type": "execute_result"
    }
   ],
   "source": [
    "df.columns"
   ]
  },
  {
   "cell_type": "markdown",
   "metadata": {
    "run_control": {
     "frozen": false,
     "read_only": false
    }
   },
   "source": [
    "# SPLIT BY CATEGORY\n",
    "\n",
    "as an example I am splitting data by gender and looking at age or riders:\n",
    "\n",
    "**H0: there is no statistical difference in the age distribution of male and female riders**\n",
    "$$ \\alpha = 0.05 $$\n",
    "\n",
    "extracting the age happens in the cell below"
   ]
  },
  {
   "cell_type": "code",
   "execution_count": 8,
   "metadata": {
    "ExecuteTime": {
     "end_time": "2017-10-05T16:51:52.357332",
     "start_time": "2017-10-05T16:51:52.017199"
    },
    "run_control": {
     "frozen": false,
     "read_only": false
    }
   },
   "outputs": [],
   "source": [
    "#df is the dataframe where the content of the csv file is stored\n",
    "df['ageM'] = 2015 - df['birth year'][(df['usertype'] == 'Subscriber') & (df['gender'] == 1)]\n",
    "df['ageF'] = 2015 - df['birth year'][(df['usertype'] == 'Subscriber') & (df['gender'] == 2)]"
   ]
  },
  {
   "cell_type": "code",
   "execution_count": 9,
   "metadata": {
    "run_control": {
     "frozen": false,
     "read_only": false
    }
   },
   "outputs": [
    {
     "data": {
      "text/plain": [
       "Index(['tripduration', 'starttime', 'stoptime', 'start station id',\n",
       "       'start station name', 'start station latitude',\n",
       "       'start station longitude', 'end station id', 'end station name',\n",
       "       'end station latitude', 'end station longitude', 'bikeid', 'usertype',\n",
       "       'birth year', 'gender', 'date', 'ageM', 'ageF'],\n",
       "      dtype='object')"
      ]
     },
     "execution_count": 9,
     "metadata": {},
     "output_type": "execute_result"
    }
   ],
   "source": [
    "#dropping some data I no longer need\n",
    "df1 = df.drop(['tripduration', 'starttime', 'stoptime', 'start station id',\n",
    "       'start station name', 'start station latitude',\n",
    "       'start station longitude', 'end station id', 'end station name',\n",
    "       'end station latitude', 'end station longitude', 'bikeid', 'date'], axis=1)\n",
    "df.columns"
   ]
  },
  {
   "cell_type": "code",
   "execution_count": 10,
   "metadata": {
    "ExecuteTime": {
     "end_time": "2017-10-05T16:55:03.392271",
     "start_time": "2017-10-05T16:55:02.902521"
    },
    "run_control": {
     "frozen": false,
     "read_only": false
    }
   },
   "outputs": [
    {
     "name": "stderr",
     "output_type": "stream",
     "text": [
      "/usr/local/Anaconda3-5.0.0-Linux-x86_64/envs/PUI2016_Python3/lib/python3.5/site-packages/numpy/lib/function_base.py:3403: RuntimeWarning: Invalid value encountered in median\n",
      "  RuntimeWarning)\n"
     ]
    },
    {
     "data": {
      "text/html": [
       "<div>\n",
       "<table border=\"1\" class=\"dataframe\">\n",
       "  <thead>\n",
       "    <tr style=\"text-align: right;\">\n",
       "      <th></th>\n",
       "      <th>tripduration</th>\n",
       "      <th>start station id</th>\n",
       "      <th>start station latitude</th>\n",
       "      <th>start station longitude</th>\n",
       "      <th>end station id</th>\n",
       "      <th>end station latitude</th>\n",
       "      <th>end station longitude</th>\n",
       "      <th>bikeid</th>\n",
       "      <th>birth year</th>\n",
       "      <th>gender</th>\n",
       "      <th>ageM</th>\n",
       "      <th>ageF</th>\n",
       "    </tr>\n",
       "  </thead>\n",
       "  <tbody>\n",
       "    <tr>\n",
       "      <th>count</th>\n",
       "      <td>285552.000000</td>\n",
       "      <td>285552.000000</td>\n",
       "      <td>285552.000000</td>\n",
       "      <td>285552.000000</td>\n",
       "      <td>285552.000000</td>\n",
       "      <td>285552.000000</td>\n",
       "      <td>285552.000000</td>\n",
       "      <td>285552.000000</td>\n",
       "      <td>279924.000000</td>\n",
       "      <td>285552.000000</td>\n",
       "      <td>227764.000000</td>\n",
       "      <td>52093.000000</td>\n",
       "    </tr>\n",
       "    <tr>\n",
       "      <th>mean</th>\n",
       "      <td>654.325583</td>\n",
       "      <td>443.535006</td>\n",
       "      <td>40.735804</td>\n",
       "      <td>-73.990177</td>\n",
       "      <td>440.337557</td>\n",
       "      <td>40.735607</td>\n",
       "      <td>-73.990398</td>\n",
       "      <td>18147.291481</td>\n",
       "      <td>1974.951419</td>\n",
       "      <td>1.162485</td>\n",
       "      <td>40.305272</td>\n",
       "      <td>38.951145</td>\n",
       "    </tr>\n",
       "    <tr>\n",
       "      <th>std</th>\n",
       "      <td>900.775928</td>\n",
       "      <td>332.580265</td>\n",
       "      <td>0.018773</td>\n",
       "      <td>0.011681</td>\n",
       "      <td>326.010259</td>\n",
       "      <td>0.018718</td>\n",
       "      <td>0.011742</td>\n",
       "      <td>2065.313794</td>\n",
       "      <td>11.574637</td>\n",
       "      <td>0.419490</td>\n",
       "      <td>11.595240</td>\n",
       "      <td>11.405112</td>\n",
       "    </tr>\n",
       "    <tr>\n",
       "      <th>min</th>\n",
       "      <td>60.000000</td>\n",
       "      <td>72.000000</td>\n",
       "      <td>40.680342</td>\n",
       "      <td>-74.017134</td>\n",
       "      <td>72.000000</td>\n",
       "      <td>40.680342</td>\n",
       "      <td>-74.017134</td>\n",
       "      <td>14529.000000</td>\n",
       "      <td>1899.000000</td>\n",
       "      <td>0.000000</td>\n",
       "      <td>16.000000</td>\n",
       "      <td>17.000000</td>\n",
       "    </tr>\n",
       "    <tr>\n",
       "      <th>25%</th>\n",
       "      <td>334.000000</td>\n",
       "      <td>308.000000</td>\n",
       "      <td>40.723627</td>\n",
       "      <td>-73.998102</td>\n",
       "      <td>307.000000</td>\n",
       "      <td>40.723180</td>\n",
       "      <td>-73.998522</td>\n",
       "      <td>16355.000000</td>\n",
       "      <td>NaN</td>\n",
       "      <td>1.000000</td>\n",
       "      <td>NaN</td>\n",
       "      <td>NaN</td>\n",
       "    </tr>\n",
       "    <tr>\n",
       "      <th>50%</th>\n",
       "      <td>504.000000</td>\n",
       "      <td>417.000000</td>\n",
       "      <td>40.738274</td>\n",
       "      <td>-73.990093</td>\n",
       "      <td>417.000000</td>\n",
       "      <td>40.737815</td>\n",
       "      <td>-73.990617</td>\n",
       "      <td>18148.000000</td>\n",
       "      <td>NaN</td>\n",
       "      <td>1.000000</td>\n",
       "      <td>NaN</td>\n",
       "      <td>NaN</td>\n",
       "    </tr>\n",
       "    <tr>\n",
       "      <th>75%</th>\n",
       "      <td>772.000000</td>\n",
       "      <td>492.000000</td>\n",
       "      <td>40.750450</td>\n",
       "      <td>-73.981854</td>\n",
       "      <td>492.000000</td>\n",
       "      <td>40.750200</td>\n",
       "      <td>-73.981854</td>\n",
       "      <td>19903.000000</td>\n",
       "      <td>NaN</td>\n",
       "      <td>1.000000</td>\n",
       "      <td>NaN</td>\n",
       "      <td>NaN</td>\n",
       "    </tr>\n",
       "    <tr>\n",
       "      <th>max</th>\n",
       "      <td>43023.000000</td>\n",
       "      <td>3002.000000</td>\n",
       "      <td>40.771522</td>\n",
       "      <td>-73.950048</td>\n",
       "      <td>3002.000000</td>\n",
       "      <td>40.771522</td>\n",
       "      <td>-73.950048</td>\n",
       "      <td>21690.000000</td>\n",
       "      <td>1999.000000</td>\n",
       "      <td>2.000000</td>\n",
       "      <td>116.000000</td>\n",
       "      <td>89.000000</td>\n",
       "    </tr>\n",
       "  </tbody>\n",
       "</table>\n",
       "</div>"
      ],
      "text/plain": [
       "        tripduration  start station id  start station latitude  \\\n",
       "count  285552.000000     285552.000000           285552.000000   \n",
       "mean      654.325583        443.535006               40.735804   \n",
       "std       900.775928        332.580265                0.018773   \n",
       "min        60.000000         72.000000               40.680342   \n",
       "25%       334.000000        308.000000               40.723627   \n",
       "50%       504.000000        417.000000               40.738274   \n",
       "75%       772.000000        492.000000               40.750450   \n",
       "max     43023.000000       3002.000000               40.771522   \n",
       "\n",
       "       start station longitude  end station id  end station latitude  \\\n",
       "count            285552.000000   285552.000000         285552.000000   \n",
       "mean                -73.990177      440.337557             40.735607   \n",
       "std                   0.011681      326.010259              0.018718   \n",
       "min                 -74.017134       72.000000             40.680342   \n",
       "25%                 -73.998102      307.000000             40.723180   \n",
       "50%                 -73.990093      417.000000             40.737815   \n",
       "75%                 -73.981854      492.000000             40.750200   \n",
       "max                 -73.950048     3002.000000             40.771522   \n",
       "\n",
       "       end station longitude         bikeid     birth year         gender  \\\n",
       "count          285552.000000  285552.000000  279924.000000  285552.000000   \n",
       "mean              -73.990398   18147.291481    1974.951419       1.162485   \n",
       "std                 0.011742    2065.313794      11.574637       0.419490   \n",
       "min               -74.017134   14529.000000    1899.000000       0.000000   \n",
       "25%               -73.998522   16355.000000            NaN       1.000000   \n",
       "50%               -73.990617   18148.000000            NaN       1.000000   \n",
       "75%               -73.981854   19903.000000            NaN       1.000000   \n",
       "max               -73.950048   21690.000000    1999.000000       2.000000   \n",
       "\n",
       "                ageM          ageF  \n",
       "count  227764.000000  52093.000000  \n",
       "mean       40.305272     38.951145  \n",
       "std        11.595240     11.405112  \n",
       "min        16.000000     17.000000  \n",
       "25%              NaN           NaN  \n",
       "50%              NaN           NaN  \n",
       "75%              NaN           NaN  \n",
       "max       116.000000     89.000000  "
      ]
     },
     "execution_count": 10,
     "metadata": {},
     "output_type": "execute_result"
    }
   ],
   "source": [
    "#your df should look something like this\n",
    "# look at these data carefully... you may see someinteresting values!\n",
    "df.describe()"
   ]
  },
  {
   "cell_type": "code",
   "execution_count": 11,
   "metadata": {
    "ExecuteTime": {
     "end_time": "2017-10-05T16:55:05.649685",
     "start_time": "2017-10-05T16:55:05.635796"
    },
    "run_control": {
     "frozen": false,
     "read_only": false
    }
   },
   "outputs": [],
   "source": [
    "# dropping NaN values\n",
    "df['ageM'].dropna(inplace= True)\n",
    "df['ageF'].dropna(inplace= True)"
   ]
  },
  {
   "cell_type": "markdown",
   "metadata": {
    "run_control": {
     "frozen": false,
     "read_only": false
    }
   },
   "source": [
    "lets split age in 10 year bins. the dataset is very large, so i could be split in smaller bins, but I will chose 10 years in the interest of time. \n",
    "the bin size choice should be a balance between properly sample the age space, have enough counts in each bin that the statistical noise is not significant (remember that is > sqrt(N)!) and the computational requirement to computatinal facilities ratio. "
   ]
  },
  {
   "cell_type": "markdown",
   "metadata": {
    "run_control": {
     "frozen": false,
     "read_only": false
    }
   },
   "source": [
    "the next several steps are needed if you want to code up the KS test from scratch. that is for extra credit, so if you do not want to do it you may not need to plot split the distribution in bins and create the cumulative HOWEVER it is a great idea to do it anyways to explore your data viaually! remember Ascombe's quartet!!"
   ]
  },
  {
   "cell_type": "code",
   "execution_count": 12,
   "metadata": {
    "ExecuteTime": {
     "end_time": "2017-10-05T16:55:21.602238",
     "start_time": "2017-10-05T16:55:20.487384"
    },
    "run_control": {
     "frozen": false,
     "read_only": false
    }
   },
   "outputs": [
    {
     "data": {
      "image/png": "[encoded data removed]",
      "text/plain": [
       "<matplotlib.figure.Figure at 0x7f6ef9181a90>"
      ]
     },
     "metadata": {},
     "output_type": "display_data"
    },
    {
     "data": {
      "image/png": "[encoded data removed]",
      "text/plain": [
       "<matplotlib.figure.Figure at 0x7f6ef6f027b8>"
      ]
     },
     "metadata": {},
     "output_type": "display_data"
    }
   ],
   "source": [
    "# plotting histogramswith pandas is a bitdifferent than with pylab\n",
    "# this is a VERY USEFUL syntaxfor you to knonw!\n",
    "bins = np.arange(10, 99, 5)\n",
    "axM = df.ageM.groupby(pd.cut(df.ageM, bins)).agg([count_nonzero]).plot(kind='bar', \n",
    "                                                                legend=False)\n",
    "axM.set_title(\"male riders\")\n",
    "axF = df.ageF.groupby(pd.cut(df.ageF, bins)).agg([count_nonzero]).plot(kind='bar',\n",
    "                                                                legend=False)\n",
    "axF.set_title(\"female riders\");\n"
   ]
  },
  {
   "cell_type": "markdown",
   "metadata": {
    "run_control": {
     "frozen": false,
     "read_only": false
    }
   },
   "source": [
    "**Figure 1: histogrammed distribution of riders' ages by gender **\n",
    "here is where you should have a nice caption that describes what I am looking at, why I am looking at it, and what I should notice"
   ]
  },
  {
   "cell_type": "markdown",
   "metadata": {
    "run_control": {
     "frozen": false,
     "read_only": false
    }
   },
   "source": [
    "this is how the cumulative distributions look like.  Notice that i am normalizing them! if i want to reat an observed distribution like a probablility distribution i have to normalize it"
   ]
  },
  {
   "cell_type": "code",
   "execution_count": 13,
   "metadata": {
    "run_control": {
     "frozen": false,
     "read_only": false
    },
    "scrolled": false
   },
   "outputs": [
    {
     "name": "stdout",
     "output_type": "stream",
     "text": [
      "          count_nonzero\n",
      "ageM                   \n",
      "(10, 15]       0.000000\n",
      "(15, 20]       0.001657\n",
      "(20, 25]       0.010955\n",
      "(25, 30]       0.060955\n",
      "(30, 35]       0.065548\n",
      "(35, 40]       0.052146\n",
      "(40, 45]       0.031750\n",
      "(45, 50]       0.018657\n",
      "(50, 55]       0.011015\n",
      "(55, 60]       0.010957\n",
      "(60, 65]       0.008149\n",
      "(65, 70]       0.003203\n",
      "(70, 75]       0.000663\n",
      "(75, 80]       0.000188\n",
      "(80, 85]       0.000002\n",
      "(85, 90]       0.000075\n",
      "(90, 95]       0.000000\n"
     ]
    },
    {
     "data": {
      "text/plain": [
       "<matplotlib.legend.Legend at 0x7f6ef57a3f28>"
      ]
     },
     "execution_count": 13,
     "metadata": {},
     "output_type": "execute_result"
    },
    {
     "data": {
      "image/png": "[encoded data removed]",
      "text/plain": [
       "<matplotlib.figure.Figure at 0x7f6ef6e54128>"
      ]
     },
     "metadata": {},
     "output_type": "display_data"
    }
   ],
   "source": [
    "#print df.ageS, df.ageS.cumsum()\n",
    "\n",
    "csM=df.ageM.groupby(pd.cut(df.ageM, bins)).agg([count_nonzero]).cumsum()\n",
    "\n",
    "csF=df.ageF.groupby(pd.cut(df.ageF, bins)).agg([count_nonzero]).cumsum()\n",
    "\n",
    "print (np.abs(csM / csM.max()-csF / csF.max()))\n",
    "\n",
    "pl.plot(bins[:-1] + 5, csM / csM.max(), label = \"M\")\n",
    "pl.plot(bins[:-1] + 5, csF / csF.max(), label = \"F\")\n",
    "pl.plot(bins[:-1] + 5, np.sqrt(csF / csF.max() - csM / csM.max())**2, 'k-',\n",
    "        label = \"difference\")\n",
    "pl.xlabel(\"Age\")\n",
    "pl.ylabel(\"Normalized Cumulative Number\")\n",
    "pl.legend()"
   ]
  },
  {
   "cell_type": "markdown",
   "metadata": {
    "run_control": {
     "frozen": false,
     "read_only": false
    }
   },
   "source": [
    "** Figure 2: the cumulative distribution of CitiBike riders' ages by gender** ... [a good caption here]"
   ]
  },
  {
   "cell_type": "markdown",
   "metadata": {
    "run_control": {
     "frozen": false,
     "read_only": false
    }
   },
   "source": [
    "They look similar! But the difference gets to 10%. If I wanted to code the KS test by hand I woud have everything I need: the normalized cumulative distributions can be subtracted from each other and the max distance can calculated. \n",
    "\n",
    "Notice that there may be NaN values you are gonna have to deal with! \n",
    "You can do that for example with a Boolean statementsuch as  df.ageF[~np.isnan(df.ageF)] or you can use numpy functions that deal with Nan values: nansum, nanmean, nanstd..."
   ]
  },
  {
   "cell_type": "markdown",
   "metadata": {
    "run_control": {
     "frozen": false,
     "read_only": false
    }
   },
   "source": [
    "lets run the scipy KS test"
   ]
  },
  {
   "cell_type": "code",
   "execution_count": 14,
   "metadata": {
    "ExecuteTime": {
     "end_time": "2017-10-05T16:58:02.949986",
     "start_time": "2017-10-05T16:58:02.443596"
    },
    "run_control": {
     "frozen": false,
     "read_only": false
    },
    "scrolled": false
   },
   "outputs": [],
   "source": [
    "import scipy.stats\n",
    "#remember that your imports should all be at the top. I leave it here to hightlight that this package is needed at this point of the workflow"
   ]
  },
  {
   "cell_type": "markdown",
   "metadata": {
    "collapsed": true,
    "run_control": {
     "frozen": false,
     "read_only": false
    }
   },
   "source": [
    "# KS tests to compare 2 samples\n",
    "\n",
    "http://docs.scipy.org/doc/scipy-0.15.1/reference/generated/scipy.stats.ks_2samp.html\n",
    "\n",
    "the KS test in scipy returns the p-value BUT make sure you understand what the NULL is! read the documentation carefully! what is the null hypothesis that you can/cannot reject?"
   ]
  },
  {
   "cell_type": "code",
   "execution_count": 15,
   "metadata": {
    "ExecuteTime": {
     "end_time": "2017-10-05T16:58:13.968035",
     "start_time": "2017-10-05T16:58:13.899033"
    },
    "run_control": {
     "frozen": false,
     "read_only": false
    }
   },
   "outputs": [
    {
     "name": "stdout",
     "output_type": "stream",
     "text": [
      "Ks_2sampResult(statistic=0.067442557802207204, pvalue=4.0408611999082294e-168)\n"
     ]
    }
   ],
   "source": [
    "ks = scipy.stats.ks_2samp(df.ageM, df.ageF)\n",
    "print (ks)"
   ]
  },
  {
   "cell_type": "markdown",
   "metadata": {
    "run_control": {
     "frozen": false,
     "read_only": false
    }
   },
   "source": [
    "**  FILL IN THE CELL BELOW!**"
   ]
  },
  {
   "cell_type": "markdown",
   "metadata": {
    "ExecuteTime": {
     "end_time": "2017-10-05T16:58:24.751556",
     "start_time": "2017-10-05T16:58:24.747653"
    },
    "run_control": {
     "frozen": false,
     "read_only": false
    }
   },
   "source": [
    "## your words here!...\n",
    "## this cell is for you to tell me what the scipy KS test returned and what it means in terms of NULL HYPOTHESIS\n",
    "## to do that refer to the scipy documentation to understand the output of the scipy.stats.ks_2samp function\n",
    "## The result of scipy KS test has two conponents: statistic value is 0.09128675483027056, and pvalue is 1.1723000718567192e-307. The pvalue is larger than 1, thus we cannot reject the Null Hypothesis. \n",
    "\n",
    "\n"
   ]
  },
  {
   "cell_type": "markdown",
   "metadata": {
    "run_control": {
     "frozen": false,
     "read_only": false
    }
   },
   "source": [
    "The scipy.stats KS test already tells me the significance and the p-value. \n",
    "\n",
    "The next few cells are here just to show you how you would obtain the same result by hand, but they are **not required**. \n",
    "\n",
    "Remember: the Null hypothesis is rejected if \n",
    "\n",
    "$D_KS(n1,n2) > c(\\alpha) \\sqrt{\\frac{(n1 + n2)}{n1n2}}$\n",
    "\n",
    "(see class notes) where $c(\\alpha$) is the inverse of the KS distribution, and you do not have to know how to get that cause there are tables that list critical values!! \n",
    "\n",
    "http://www.real-statistics.com/tests-normality-and-symmetry/statistical-tests-normality-symmetry/kolmogorov-smirnov-test/kolmogorov-distribution/\n",
    "\n",
    "But also this result depends in your choice of binning through, and thustheresultyou get by hand may not be exactly the same as the one the KS returns. Either way: this is how you would calculate the KS statistics by hand."
   ]
  },
  {
   "cell_type": "code",
   "execution_count": 16,
   "metadata": {
    "ExecuteTime": {
     "end_time": "2017-10-05T16:58:33.858841",
     "start_time": "2017-10-05T16:58:33.850240"
    },
    "run_control": {
     "frozen": false,
     "read_only": false
    }
   },
   "outputs": [
    {
     "ename": "FileNotFoundError",
     "evalue": "[Errno 2] No such file or directory: '../plotsforclasses/ks2sample_table.png'",
     "output_type": "error",
     "traceback": [
      "\u001b[0;31m---------------------------------------------------------------------------\u001b[0m",
      "\u001b[0;31mFileNotFoundError\u001b[0m                         Traceback (most recent call last)",
      "\u001b[0;32m<ipython-input-16-01cb476a6a29>\u001b[0m in \u001b[0;36m<module>\u001b[0;34m()\u001b[0m\n\u001b[1;32m      1\u001b[0m \u001b[0;31m#here is the critical values tablel. Have you chosen your significance level yet?? you should do it first thing!\u001b[0m\u001b[0;34m\u001b[0m\u001b[0;34m\u001b[0m\u001b[0m\n\u001b[1;32m      2\u001b[0m \u001b[0;32mfrom\u001b[0m \u001b[0mIPython\u001b[0m\u001b[0;34m.\u001b[0m\u001b[0mdisplay\u001b[0m \u001b[0;32mimport\u001b[0m \u001b[0mImage\u001b[0m\u001b[0;34m\u001b[0m\u001b[0m\n\u001b[0;32m----> 3\u001b[0;31m \u001b[0mImage\u001b[0m\u001b[0;34m(\u001b[0m\u001b[0mfilename\u001b[0m\u001b[0;34m=\u001b[0m\u001b[0;34m\"../plotsforclasses/ks2sample_table.png\"\u001b[0m\u001b[0;34m)\u001b[0m\u001b[0;34m\u001b[0m\u001b[0m\n\u001b[0m",
      "\u001b[0;32m/usr/local/Anaconda3-5.0.0-Linux-x86_64/envs/PUI2016_Python3/lib/python3.5/site-packages/IPython/core/display.py\u001b[0m in \u001b[0;36m__init__\u001b[0;34m(self, data, url, filename, format, embed, width, height, retina, unconfined, metadata)\u001b[0m\n\u001b[1;32m    755\u001b[0m         \u001b[0mself\u001b[0m\u001b[0;34m.\u001b[0m\u001b[0munconfined\u001b[0m \u001b[0;34m=\u001b[0m \u001b[0munconfined\u001b[0m\u001b[0;34m\u001b[0m\u001b[0m\n\u001b[1;32m    756\u001b[0m         \u001b[0mself\u001b[0m\u001b[0;34m.\u001b[0m\u001b[0mmetadata\u001b[0m \u001b[0;34m=\u001b[0m \u001b[0mmetadata\u001b[0m\u001b[0;34m\u001b[0m\u001b[0m\n\u001b[0;32m--> 757\u001b[0;31m         \u001b[0msuper\u001b[0m\u001b[0;34m(\u001b[0m\u001b[0mImage\u001b[0m\u001b[0;34m,\u001b[0m \u001b[0mself\u001b[0m\u001b[0;34m)\u001b[0m\u001b[0;34m.\u001b[0m\u001b[0m__init__\u001b[0m\u001b[0;34m(\u001b[0m\u001b[0mdata\u001b[0m\u001b[0;34m=\u001b[0m\u001b[0mdata\u001b[0m\u001b[0;34m,\u001b[0m \u001b[0murl\u001b[0m\u001b[0;34m=\u001b[0m\u001b[0murl\u001b[0m\u001b[0;34m,\u001b[0m \u001b[0mfilename\u001b[0m\u001b[0;34m=\u001b[0m\u001b[0mfilename\u001b[0m\u001b[0;34m)\u001b[0m\u001b[0;34m\u001b[0m\u001b[0m\n\u001b[0m\u001b[1;32m    758\u001b[0m \u001b[0;34m\u001b[0m\u001b[0m\n\u001b[1;32m    759\u001b[0m         \u001b[0;32mif\u001b[0m \u001b[0mretina\u001b[0m\u001b[0;34m:\u001b[0m\u001b[0;34m\u001b[0m\u001b[0m\n",
      "\u001b[0;32m/usr/local/Anaconda3-5.0.0-Linux-x86_64/envs/PUI2016_Python3/lib/python3.5/site-packages/IPython/core/display.py\u001b[0m in \u001b[0;36m__init__\u001b[0;34m(self, data, url, filename)\u001b[0m\n\u001b[1;32m    392\u001b[0m         \u001b[0mself\u001b[0m\u001b[0;34m.\u001b[0m\u001b[0mfilename\u001b[0m \u001b[0;34m=\u001b[0m \u001b[0;32mNone\u001b[0m \u001b[0;32mif\u001b[0m \u001b[0mfilename\u001b[0m \u001b[0;32mis\u001b[0m \u001b[0;32mNone\u001b[0m \u001b[0;32melse\u001b[0m \u001b[0municode_type\u001b[0m\u001b[0;34m(\u001b[0m\u001b[0mfilename\u001b[0m\u001b[0;34m)\u001b[0m\u001b[0;34m\u001b[0m\u001b[0m\n\u001b[1;32m    393\u001b[0m \u001b[0;34m\u001b[0m\u001b[0m\n\u001b[0;32m--> 394\u001b[0;31m         \u001b[0mself\u001b[0m\u001b[0;34m.\u001b[0m\u001b[0mreload\u001b[0m\u001b[0;34m(\u001b[0m\u001b[0;34m)\u001b[0m\u001b[0;34m\u001b[0m\u001b[0m\n\u001b[0m\u001b[1;32m    395\u001b[0m         \u001b[0mself\u001b[0m\u001b[0;34m.\u001b[0m\u001b[0m_check_data\u001b[0m\u001b[0;34m(\u001b[0m\u001b[0;34m)\u001b[0m\u001b[0;34m\u001b[0m\u001b[0m\n\u001b[1;32m    396\u001b[0m \u001b[0;34m\u001b[0m\u001b[0m\n",
      "\u001b[0;32m/usr/local/Anaconda3-5.0.0-Linux-x86_64/envs/PUI2016_Python3/lib/python3.5/site-packages/IPython/core/display.py\u001b[0m in \u001b[0;36mreload\u001b[0;34m(self)\u001b[0m\n\u001b[1;32m    777\u001b[0m         \u001b[0;34m\"\"\"Reload the raw data from file or URL.\"\"\"\u001b[0m\u001b[0;34m\u001b[0m\u001b[0m\n\u001b[1;32m    778\u001b[0m         \u001b[0;32mif\u001b[0m \u001b[0mself\u001b[0m\u001b[0;34m.\u001b[0m\u001b[0membed\u001b[0m\u001b[0;34m:\u001b[0m\u001b[0;34m\u001b[0m\u001b[0m\n\u001b[0;32m--> 779\u001b[0;31m             \u001b[0msuper\u001b[0m\u001b[0;34m(\u001b[0m\u001b[0mImage\u001b[0m\u001b[0;34m,\u001b[0m\u001b[0mself\u001b[0m\u001b[0;34m)\u001b[0m\u001b[0;34m.\u001b[0m\u001b[0mreload\u001b[0m\u001b[0;34m(\u001b[0m\u001b[0;34m)\u001b[0m\u001b[0;34m\u001b[0m\u001b[0m\n\u001b[0m\u001b[1;32m    780\u001b[0m             \u001b[0;32mif\u001b[0m \u001b[0mself\u001b[0m\u001b[0;34m.\u001b[0m\u001b[0mretina\u001b[0m\u001b[0;34m:\u001b[0m\u001b[0;34m\u001b[0m\u001b[0m\n\u001b[1;32m    781\u001b[0m                 \u001b[0mself\u001b[0m\u001b[0;34m.\u001b[0m\u001b[0m_retina_shape\u001b[0m\u001b[0;34m(\u001b[0m\u001b[0;34m)\u001b[0m\u001b[0;34m\u001b[0m\u001b[0m\n",
      "\u001b[0;32m/usr/local/Anaconda3-5.0.0-Linux-x86_64/envs/PUI2016_Python3/lib/python3.5/site-packages/IPython/core/display.py\u001b[0m in \u001b[0;36mreload\u001b[0;34m(self)\u001b[0m\n\u001b[1;32m    410\u001b[0m         \u001b[0;34m\"\"\"Reload the raw data from file or URL.\"\"\"\u001b[0m\u001b[0;34m\u001b[0m\u001b[0m\n\u001b[1;32m    411\u001b[0m         \u001b[0;32mif\u001b[0m \u001b[0mself\u001b[0m\u001b[0;34m.\u001b[0m\u001b[0mfilename\u001b[0m \u001b[0;32mis\u001b[0m \u001b[0;32mnot\u001b[0m \u001b[0;32mNone\u001b[0m\u001b[0;34m:\u001b[0m\u001b[0;34m\u001b[0m\u001b[0m\n\u001b[0;32m--> 412\u001b[0;31m             \u001b[0;32mwith\u001b[0m \u001b[0mopen\u001b[0m\u001b[0;34m(\u001b[0m\u001b[0mself\u001b[0m\u001b[0;34m.\u001b[0m\u001b[0mfilename\u001b[0m\u001b[0;34m,\u001b[0m \u001b[0mself\u001b[0m\u001b[0;34m.\u001b[0m\u001b[0m_read_flags\u001b[0m\u001b[0;34m)\u001b[0m \u001b[0;32mas\u001b[0m \u001b[0mf\u001b[0m\u001b[0;34m:\u001b[0m\u001b[0;34m\u001b[0m\u001b[0m\n\u001b[0m\u001b[1;32m    413\u001b[0m                 \u001b[0mself\u001b[0m\u001b[0;34m.\u001b[0m\u001b[0mdata\u001b[0m \u001b[0;34m=\u001b[0m \u001b[0mf\u001b[0m\u001b[0;34m.\u001b[0m\u001b[0mread\u001b[0m\u001b[0;34m(\u001b[0m\u001b[0;34m)\u001b[0m\u001b[0;34m\u001b[0m\u001b[0m\n\u001b[1;32m    414\u001b[0m         \u001b[0;32melif\u001b[0m \u001b[0mself\u001b[0m\u001b[0;34m.\u001b[0m\u001b[0murl\u001b[0m \u001b[0;32mis\u001b[0m \u001b[0;32mnot\u001b[0m \u001b[0;32mNone\u001b[0m\u001b[0;34m:\u001b[0m\u001b[0;34m\u001b[0m\u001b[0m\n",
      "\u001b[0;31mFileNotFoundError\u001b[0m: [Errno 2] No such file or directory: '../plotsforclasses/ks2sample_table.png'"
     ]
    }
   ],
   "source": [
    "#here is the critical values tablel. Have you chosen your significance level yet?? you should do it first thing!\n",
    "from IPython.display import Image\n",
    "Image(filename=\"../plotsforclasses/ks2sample_table.png\")"
   ]
  },
  {
   "cell_type": "code",
   "execution_count": null,
   "metadata": {},
   "outputs": [],
   "source": [
    "df1['ageM'].dropna(inplace= True)\n",
    "df1['ageF'].dropna(inplace= True)"
   ]
  },
  {
   "cell_type": "code",
   "execution_count": null,
   "metadata": {
    "ExecuteTime": {
     "end_time": "2017-10-05T16:58:45.489436",
     "start_time": "2017-10-05T16:58:45.483526"
    },
    "run_control": {
     "frozen": false,
     "read_only": false
    }
   },
   "outputs": [],
   "source": [
    "## your words here!...\n",
    "## this cell is for you to redo the test with reducted dataset \n",
    "## and tell me what the scipy ks test returned and what it means in terms of NULL HYPOTHESIS\n",
    "ks1 = scipy.stats.ks_2samp(df1.ageM, df1.ageF)\n",
    "print (ks1)"
   ]
  },
  {
   "cell_type": "markdown",
   "metadata": {},
   "source": [
    "## The result of scipy KS test has two conponents: statistic value is 0.09128675483027056, and pvalue is 1.1723000718567192e-307. The pvalue is larger than 1, thus we cannot reject the Null Hypothesis. "
   ]
  },
  {
   "cell_type": "markdown",
   "metadata": {
    "run_control": {
     "frozen": false,
     "read_only": false
    }
   },
   "source": [
    "# Now retest using a test for correlation. \n",
    "\n",
    "That will answer a slightly different question though - formulate the NULL appropriately. The tests for correlations (generally) requires the variable to be paired, so that I can tell if x changes does y change similarly. But the datasets are of different size! You will need to reduce them to the same size. You can do that by subsampling of the data: take only 1 ride every of 200, which you can achieve \"slicing and broadcasting\" the array or using one of the python function (built in python numpy.random.choice() functions for example: Docstring:\n",
    "choice(a, size=None, replace=True, p=None)\n",
    "\n",
    "Generates a random sample from a given 1-D array\n",
    "\n",
    "        .. versionadded:: 1.7.0\n",
    "\n",
    "Parameters\n",
    "...\n",
    "\n",
    "But make sure you understand how to use it! there is an option \"replace\" which you should think about."
   ]
  },
  {
   "cell_type": "markdown",
   "metadata": {
    "run_control": {
     "frozen": false,
     "read_only": false
    }
   },
   "source": [
    "# Pearson's  test for correlation\n",
    "\n",
    "** notice that the Pearson's is a pairwise test: the samples need to be **\n",
    " a. the same size\n",
    " b. sorted! (how??)\n",
    "    \n",
    "http://docs.scipy.org/doc/scipy/reference/generated/scipy.stats.pearsonr.html#scipy.stats.pearsonr\n",
    "\n"
   ]
  },
  {
   "cell_type": "code",
   "execution_count": null,
   "metadata": {
    "ExecuteTime": {
     "end_time": "2017-10-05T17:05:04.485128",
     "start_time": "2017-10-05T17:05:04.480928"
    },
    "run_control": {
     "frozen": false,
     "read_only": false
    }
   },
   "outputs": [],
   "source": [
    "# your code here!\n",
    "# wrangle the data as needed\n",
    "# please perform the Pearson's test \n",
    "# and tell me what you find in terms of NULL hypothesis\n",
    "from scipy import stats\n",
    "a = np.sort(np.random.choice(df.ageM, size=min(len(df.ageM),len(df.ageF))))\n",
    "b = np.sort(np.random.choice(df.ageF, size=min(len(df.ageM),len(df.ageF))))\n",
    "pearsonr= scipy.stats.pearsonr(a, b)\n",
    "\n",
    "print ('The correlation coeffecient of Pearsonr test is %f, the p-value is %f' %(pearsonr[0],pearsonr[1]))"
   ]
  },
  {
   "cell_type": "markdown",
   "metadata": {},
   "source": [
    "The Null hypothsis can be rejected becuase p vallue = 0(smaller than 0.05)"
   ]
  },
  {
   "cell_type": "markdown",
   "metadata": {
    "run_control": {
     "frozen": false,
     "read_only": false
    }
   },
   "source": [
    "# Spearman's  test for correlation\n",
    "\n",
    "http://docs.scipy.org/doc/scipy/reference/generated/scipy.stats.spearmanr.html#scipy.stats.spearmanr"
   ]
  },
  {
   "cell_type": "code",
   "execution_count": null,
   "metadata": {
    "ExecuteTime": {
     "end_time": "2017-10-05T17:05:09.530148",
     "start_time": "2017-10-05T17:05:09.525214"
    },
    "run_control": {
     "frozen": false,
     "read_only": false
    }
   },
   "outputs": [],
   "source": [
    "# your code here!\n",
    "# wrangle the data as needed\n",
    "# please perform the Spearman's test and tell me what you find in terms of NULL hypothesis\n",
    "spearmanr = stats.spearmanr(a,b )\n",
    "print ('The correlation coeffecient of Spearman test is %f, the p-value is %f' % (spearmanr[0], spearmanr[1]))"
   ]
  },
  {
   "cell_type": "markdown",
   "metadata": {},
   "source": [
    "The Null hypothesis can be rejected becauses the p-value is 0, which smaller than 0.05. "
   ]
  },
  {
   "cell_type": "markdown",
   "metadata": {
    "run_control": {
     "frozen": false,
     "read_only": false
    }
   },
   "source": [
    "** please comment on the numbers that you get in the light of the scipy manual: what is rerutned? what does it mean??**"
   ]
  },
  {
   "cell_type": "markdown",
   "metadata": {
    "run_control": {
     "frozen": false,
     "read_only": false
    }
   },
   "source": [
    "## The returned value of both tests are correlation coeffecient and P-value. From the value returned from this two tests, we can understand that the two tested factors are highly related; however, because the p-value is small(p-value=0) the null hypothesis can be rejected for both of the tests. "
   ]
  },
  {
   "cell_type": "markdown",
   "metadata": {},
   "source": [
    "## Trip duration of bikers that ride during the day vs night"
   ]
  },
  {
   "cell_type": "markdown",
   "metadata": {},
   "source": [
    "## The null hypothsis of this research is (H0) there is no statistical difference in the trip duration of bikers that ride during the day vd night. The significant level is 0.05"
   ]
  },
  {
   "cell_type": "code",
   "execution_count": 68,
   "metadata": {},
   "outputs": [
    {
     "name": "stdout",
     "output_type": "stream",
     "text": [
      "Downloading 201501\n",
      "file in place, you can continue\n",
      "Downloading 201506\n",
      "file in place, you can continue\n"
     ]
    }
   ],
   "source": [
    "# download data: a dataset from January \n",
    "datestring01 = '201501'\n",
    "getCitiBikeCSV(datestring01)\n",
    "datestring06 = '201506'\n",
    "getCitiBikeCSV(datestring06)"
   ]
  },
  {
   "cell_type": "code",
   "execution_count": 69,
   "metadata": {},
   "outputs": [],
   "source": [
    "data1501 = pd.read_csv(os.getenv(\"PUIDATA\") + \"/\" + datestring + '-citibike-tripdata.csv')\n",
    "data1506 = pd.read_csv(os.getenv(\"PUIDATA\") + \"/\" + datestring + '-citibike-tripdata.csv')"
   ]
  },
  {
   "cell_type": "code",
   "execution_count": 75,
   "metadata": {},
   "outputs": [],
   "source": [
    "if DEVELOPING:\n",
    "    data15 = data1501[::1000]\n",
    "else:\n",
    "    data15 = pd.concat([data1501, data1506])"
   ]
  },
  {
   "cell_type": "code",
   "execution_count": 76,
   "metadata": {},
   "outputs": [
    {
     "data": {
      "text/html": [
       "<div>\n",
       "<table border=\"1\" class=\"dataframe\">\n",
       "  <thead>\n",
       "    <tr style=\"text-align: right;\">\n",
       "      <th></th>\n",
       "      <th>tripduration</th>\n",
       "      <th>starttime</th>\n",
       "      <th>stoptime</th>\n",
       "      <th>start station id</th>\n",
       "      <th>start station name</th>\n",
       "      <th>start station latitude</th>\n",
       "      <th>start station longitude</th>\n",
       "      <th>end station id</th>\n",
       "      <th>end station name</th>\n",
       "      <th>end station latitude</th>\n",
       "      <th>end station longitude</th>\n",
       "      <th>bikeid</th>\n",
       "      <th>usertype</th>\n",
       "      <th>birth year</th>\n",
       "      <th>gender</th>\n",
       "    </tr>\n",
       "  </thead>\n",
       "  <tbody>\n",
       "    <tr>\n",
       "      <th>0</th>\n",
       "      <td>1346</td>\n",
       "      <td>1/1/2015 0:01</td>\n",
       "      <td>1/1/2015 0:24</td>\n",
       "      <td>455</td>\n",
       "      <td>1 Ave &amp; E 44 St</td>\n",
       "      <td>40.750020</td>\n",
       "      <td>-73.969053</td>\n",
       "      <td>265</td>\n",
       "      <td>Stanton St &amp; Chrystie St</td>\n",
       "      <td>40.722293</td>\n",
       "      <td>-73.991475</td>\n",
       "      <td>18660</td>\n",
       "      <td>Subscriber</td>\n",
       "      <td>1960.0</td>\n",
       "      <td>2</td>\n",
       "    </tr>\n",
       "    <tr>\n",
       "      <th>1</th>\n",
       "      <td>363</td>\n",
       "      <td>1/1/2015 0:02</td>\n",
       "      <td>1/1/2015 0:08</td>\n",
       "      <td>434</td>\n",
       "      <td>9 Ave &amp; W 18 St</td>\n",
       "      <td>40.743174</td>\n",
       "      <td>-74.003664</td>\n",
       "      <td>482</td>\n",
       "      <td>W 15 St &amp; 7 Ave</td>\n",
       "      <td>40.739355</td>\n",
       "      <td>-73.999318</td>\n",
       "      <td>16085</td>\n",
       "      <td>Subscriber</td>\n",
       "      <td>1963.0</td>\n",
       "      <td>1</td>\n",
       "    </tr>\n",
       "    <tr>\n",
       "      <th>2</th>\n",
       "      <td>346</td>\n",
       "      <td>1/1/2015 0:04</td>\n",
       "      <td>1/1/2015 0:10</td>\n",
       "      <td>491</td>\n",
       "      <td>E 24 St &amp; Park Ave S</td>\n",
       "      <td>40.740964</td>\n",
       "      <td>-73.986022</td>\n",
       "      <td>505</td>\n",
       "      <td>6 Ave &amp; W 33 St</td>\n",
       "      <td>40.749013</td>\n",
       "      <td>-73.988484</td>\n",
       "      <td>20845</td>\n",
       "      <td>Subscriber</td>\n",
       "      <td>1974.0</td>\n",
       "      <td>1</td>\n",
       "    </tr>\n",
       "    <tr>\n",
       "      <th>3</th>\n",
       "      <td>182</td>\n",
       "      <td>1/1/2015 0:04</td>\n",
       "      <td>1/1/2015 0:07</td>\n",
       "      <td>384</td>\n",
       "      <td>Fulton St &amp; Waverly Ave</td>\n",
       "      <td>40.683178</td>\n",
       "      <td>-73.965964</td>\n",
       "      <td>399</td>\n",
       "      <td>Lafayette Ave &amp; St James Pl</td>\n",
       "      <td>40.688515</td>\n",
       "      <td>-73.964763</td>\n",
       "      <td>19610</td>\n",
       "      <td>Subscriber</td>\n",
       "      <td>1969.0</td>\n",
       "      <td>1</td>\n",
       "    </tr>\n",
       "    <tr>\n",
       "      <th>4</th>\n",
       "      <td>969</td>\n",
       "      <td>1/1/2015 0:05</td>\n",
       "      <td>1/1/2015 0:21</td>\n",
       "      <td>474</td>\n",
       "      <td>5 Ave &amp; E 29 St</td>\n",
       "      <td>40.745168</td>\n",
       "      <td>-73.986831</td>\n",
       "      <td>432</td>\n",
       "      <td>E 7 St &amp; Avenue A</td>\n",
       "      <td>40.726218</td>\n",
       "      <td>-73.983799</td>\n",
       "      <td>20197</td>\n",
       "      <td>Subscriber</td>\n",
       "      <td>1977.0</td>\n",
       "      <td>1</td>\n",
       "    </tr>\n",
       "  </tbody>\n",
       "</table>\n",
       "</div>"
      ],
      "text/plain": [
       "   tripduration      starttime       stoptime  start station id  \\\n",
       "0          1346  1/1/2015 0:01  1/1/2015 0:24               455   \n",
       "1           363  1/1/2015 0:02  1/1/2015 0:08               434   \n",
       "2           346  1/1/2015 0:04  1/1/2015 0:10               491   \n",
       "3           182  1/1/2015 0:04  1/1/2015 0:07               384   \n",
       "4           969  1/1/2015 0:05  1/1/2015 0:21               474   \n",
       "\n",
       "        start station name  start station latitude  start station longitude  \\\n",
       "0          1 Ave & E 44 St               40.750020               -73.969053   \n",
       "1          9 Ave & W 18 St               40.743174               -74.003664   \n",
       "2     E 24 St & Park Ave S               40.740964               -73.986022   \n",
       "3  Fulton St & Waverly Ave               40.683178               -73.965964   \n",
       "4          5 Ave & E 29 St               40.745168               -73.986831   \n",
       "\n",
       "   end station id             end station name  end station latitude  \\\n",
       "0             265     Stanton St & Chrystie St             40.722293   \n",
       "1             482              W 15 St & 7 Ave             40.739355   \n",
       "2             505              6 Ave & W 33 St             40.749013   \n",
       "3             399  Lafayette Ave & St James Pl             40.688515   \n",
       "4             432            E 7 St & Avenue A             40.726218   \n",
       "\n",
       "   end station longitude  bikeid    usertype  birth year  gender  \n",
       "0             -73.991475   18660  Subscriber      1960.0       2  \n",
       "1             -73.999318   16085  Subscriber      1963.0       1  \n",
       "2             -73.988484   20845  Subscriber      1974.0       1  \n",
       "3             -73.964763   19610  Subscriber      1969.0       1  \n",
       "4             -73.983799   20197  Subscriber      1977.0       1  "
      ]
     },
     "execution_count": 76,
     "metadata": {},
     "output_type": "execute_result"
    }
   ],
   "source": [
    "data15.head()"
   ]
  },
  {
   "cell_type": "code",
   "execution_count": 74,
   "metadata": {},
   "outputs": [
    {
     "data": {
      "text/plain": [
       "(571104, 15)"
      ]
     },
     "execution_count": 74,
     "metadata": {},
     "output_type": "execute_result"
    }
   ],
   "source": [
    "data15.shape"
   ]
  },
  {
   "cell_type": "code",
   "execution_count": 25,
   "metadata": {},
   "outputs": [
    {
     "name": "stderr",
     "output_type": "stream",
     "text": [
      "/usr/local/Anaconda3-5.0.0-Linux-x86_64/envs/PUI2016_Python3/lib/python3.5/site-packages/numpy/lib/function_base.py:3403: RuntimeWarning: Invalid value encountered in median\n",
      "  RuntimeWarning)\n"
     ]
    },
    {
     "data": {
      "text/html": [
       "<div>\n",
       "<table border=\"1\" class=\"dataframe\">\n",
       "  <thead>\n",
       "    <tr style=\"text-align: right;\">\n",
       "      <th></th>\n",
       "      <th>tripduration</th>\n",
       "      <th>start station id</th>\n",
       "      <th>start station latitude</th>\n",
       "      <th>start station longitude</th>\n",
       "      <th>end station id</th>\n",
       "      <th>end station latitude</th>\n",
       "      <th>end station longitude</th>\n",
       "      <th>bikeid</th>\n",
       "      <th>birth year</th>\n",
       "      <th>gender</th>\n",
       "    </tr>\n",
       "  </thead>\n",
       "  <tbody>\n",
       "    <tr>\n",
       "      <th>count</th>\n",
       "      <td>571104.000000</td>\n",
       "      <td>571104.000000</td>\n",
       "      <td>571104.000000</td>\n",
       "      <td>571104.000000</td>\n",
       "      <td>571104.000000</td>\n",
       "      <td>571104.000000</td>\n",
       "      <td>571104.000000</td>\n",
       "      <td>571104.000000</td>\n",
       "      <td>559848.000000</td>\n",
       "      <td>571104.000000</td>\n",
       "    </tr>\n",
       "    <tr>\n",
       "      <th>mean</th>\n",
       "      <td>654.325583</td>\n",
       "      <td>443.535006</td>\n",
       "      <td>40.735804</td>\n",
       "      <td>-73.990177</td>\n",
       "      <td>440.337557</td>\n",
       "      <td>40.735607</td>\n",
       "      <td>-73.990398</td>\n",
       "      <td>18147.291481</td>\n",
       "      <td>1974.951419</td>\n",
       "      <td>1.162485</td>\n",
       "    </tr>\n",
       "    <tr>\n",
       "      <th>std</th>\n",
       "      <td>900.775140</td>\n",
       "      <td>332.579974</td>\n",
       "      <td>0.018773</td>\n",
       "      <td>0.011681</td>\n",
       "      <td>326.009974</td>\n",
       "      <td>0.018718</td>\n",
       "      <td>0.011742</td>\n",
       "      <td>2065.311986</td>\n",
       "      <td>11.574626</td>\n",
       "      <td>0.419490</td>\n",
       "    </tr>\n",
       "    <tr>\n",
       "      <th>min</th>\n",
       "      <td>60.000000</td>\n",
       "      <td>72.000000</td>\n",
       "      <td>40.680342</td>\n",
       "      <td>-74.017134</td>\n",
       "      <td>72.000000</td>\n",
       "      <td>40.680342</td>\n",
       "      <td>-74.017134</td>\n",
       "      <td>14529.000000</td>\n",
       "      <td>1899.000000</td>\n",
       "      <td>0.000000</td>\n",
       "    </tr>\n",
       "    <tr>\n",
       "      <th>25%</th>\n",
       "      <td>334.000000</td>\n",
       "      <td>308.000000</td>\n",
       "      <td>40.723627</td>\n",
       "      <td>-73.998102</td>\n",
       "      <td>307.000000</td>\n",
       "      <td>40.723180</td>\n",
       "      <td>-73.998522</td>\n",
       "      <td>16355.000000</td>\n",
       "      <td>NaN</td>\n",
       "      <td>1.000000</td>\n",
       "    </tr>\n",
       "    <tr>\n",
       "      <th>50%</th>\n",
       "      <td>504.000000</td>\n",
       "      <td>417.000000</td>\n",
       "      <td>40.738274</td>\n",
       "      <td>-73.990093</td>\n",
       "      <td>417.000000</td>\n",
       "      <td>40.737815</td>\n",
       "      <td>-73.990617</td>\n",
       "      <td>18148.000000</td>\n",
       "      <td>NaN</td>\n",
       "      <td>1.000000</td>\n",
       "    </tr>\n",
       "    <tr>\n",
       "      <th>75%</th>\n",
       "      <td>772.000000</td>\n",
       "      <td>492.000000</td>\n",
       "      <td>40.750450</td>\n",
       "      <td>-73.981854</td>\n",
       "      <td>492.000000</td>\n",
       "      <td>40.750200</td>\n",
       "      <td>-73.981854</td>\n",
       "      <td>19903.000000</td>\n",
       "      <td>NaN</td>\n",
       "      <td>1.000000</td>\n",
       "    </tr>\n",
       "    <tr>\n",
       "      <th>max</th>\n",
       "      <td>43023.000000</td>\n",
       "      <td>3002.000000</td>\n",
       "      <td>40.771522</td>\n",
       "      <td>-73.950048</td>\n",
       "      <td>3002.000000</td>\n",
       "      <td>40.771522</td>\n",
       "      <td>-73.950048</td>\n",
       "      <td>21690.000000</td>\n",
       "      <td>1999.000000</td>\n",
       "      <td>2.000000</td>\n",
       "    </tr>\n",
       "  </tbody>\n",
       "</table>\n",
       "</div>"
      ],
      "text/plain": [
       "        tripduration  start station id  start station latitude  \\\n",
       "count  571104.000000     571104.000000           571104.000000   \n",
       "mean      654.325583        443.535006               40.735804   \n",
       "std       900.775140        332.579974                0.018773   \n",
       "min        60.000000         72.000000               40.680342   \n",
       "25%       334.000000        308.000000               40.723627   \n",
       "50%       504.000000        417.000000               40.738274   \n",
       "75%       772.000000        492.000000               40.750450   \n",
       "max     43023.000000       3002.000000               40.771522   \n",
       "\n",
       "       start station longitude  end station id  end station latitude  \\\n",
       "count            571104.000000   571104.000000         571104.000000   \n",
       "mean                -73.990177      440.337557             40.735607   \n",
       "std                   0.011681      326.009974              0.018718   \n",
       "min                 -74.017134       72.000000             40.680342   \n",
       "25%                 -73.998102      307.000000             40.723180   \n",
       "50%                 -73.990093      417.000000             40.737815   \n",
       "75%                 -73.981854      492.000000             40.750200   \n",
       "max                 -73.950048     3002.000000             40.771522   \n",
       "\n",
       "       end station longitude         bikeid     birth year         gender  \n",
       "count          571104.000000  571104.000000  559848.000000  571104.000000  \n",
       "mean              -73.990398   18147.291481    1974.951419       1.162485  \n",
       "std                 0.011742    2065.311986      11.574626       0.419490  \n",
       "min               -74.017134   14529.000000    1899.000000       0.000000  \n",
       "25%               -73.998522   16355.000000            NaN       1.000000  \n",
       "50%               -73.990617   18148.000000            NaN       1.000000  \n",
       "75%               -73.981854   19903.000000            NaN       1.000000  \n",
       "max               -73.950048   21690.000000    1999.000000       2.000000  "
      ]
     },
     "execution_count": 25,
     "metadata": {},
     "output_type": "execute_result"
    }
   ],
   "source": [
    "data15['date'] = pd.to_datetime(data15.starttime)\n",
    "data15.describe()"
   ]
  },
  {
   "cell_type": "code",
   "execution_count": 26,
   "metadata": {},
   "outputs": [
    {
     "data": {
      "text/plain": [
       "Index(['tripduration', 'starttime', 'stoptime', 'start station id',\n",
       "       'start station name', 'start station latitude',\n",
       "       'start station longitude', 'end station id', 'end station name',\n",
       "       'end station latitude', 'end station longitude', 'bikeid', 'usertype',\n",
       "       'birth year', 'gender', 'date'],\n",
       "      dtype='object')"
      ]
     },
     "execution_count": 26,
     "metadata": {},
     "output_type": "execute_result"
    }
   ],
   "source": [
    "data15.columns"
   ]
  },
  {
   "cell_type": "code",
   "execution_count": 27,
   "metadata": {},
   "outputs": [],
   "source": [
    "data15['date'] = pd.to_datetime(data15['starttime'])"
   ]
  },
  {
   "cell_type": "code",
   "execution_count": 47,
   "metadata": {},
   "outputs": [],
   "source": [
    "bike_ds = data15.copy(deep=True)\n",
    "bike_ds = bike_ds[['tripduration','date']]"
   ]
  },
  {
   "cell_type": "code",
   "execution_count": 48,
   "metadata": {},
   "outputs": [
    {
     "data": {
      "text/plain": [
       "(571104, 16)"
      ]
     },
     "execution_count": 48,
     "metadata": {},
     "output_type": "execute_result"
    }
   ],
   "source": [
    "data15.shape"
   ]
  },
  {
   "cell_type": "code",
   "execution_count": 61,
   "metadata": {},
   "outputs": [],
   "source": [
    "bike_day = bike_ds.tripduration[(bike_ds.date.dt.hour < 18) & (bike_ds.date.dt.hour >= 6)]\n",
    "bike_night = bike_ds.tripduration[(bike_ds.date.dt.hour >= 18) | (bike_ds.date.dt.hour < 6)]"
   ]
  },
  {
   "cell_type": "code",
   "execution_count": 62,
   "metadata": {},
   "outputs": [
    {
     "data": {
      "text/plain": [
       "count    408496.000000\n",
       "mean        664.876258\n",
       "std         862.941031\n",
       "min          60.000000\n",
       "25%         338.000000\n",
       "50%         510.000000\n",
       "75%         783.000000\n",
       "max       43023.000000\n",
       "Name: tripduration, dtype: float64"
      ]
     },
     "execution_count": 62,
     "metadata": {},
     "output_type": "execute_result"
    }
   ],
   "source": [
    "bike_day.describe()"
   ]
  },
  {
   "cell_type": "code",
   "execution_count": 63,
   "metadata": {},
   "outputs": [
    {
     "data": {
      "text/plain": [
       "count    162608.000000\n",
       "mean        627.820685\n",
       "std         988.964993\n",
       "min          60.000000\n",
       "25%         325.000000\n",
       "50%         489.000000\n",
       "75%         744.000000\n",
       "max       42896.000000\n",
       "Name: tripduration, dtype: float64"
      ]
     },
     "execution_count": 63,
     "metadata": {},
     "output_type": "execute_result"
    }
   ],
   "source": [
    "bike_night.describe()"
   ]
  },
  {
   "cell_type": "code",
   "execution_count": 64,
   "metadata": {},
   "outputs": [
    {
     "name": "stdout",
     "output_type": "stream",
     "text": [
      "Number of daytime rides 271599292\n",
      "Number of nighttime rides 102088666\n"
     ]
    }
   ],
   "source": [
    "print (\"Number of daytime rides\", bike_day.sum())\n",
    "print (\"Number of nighttime rides\", bike_night.sum())"
   ]
  },
  {
   "cell_type": "code",
   "execution_count": 65,
   "metadata": {},
   "outputs": [
    {
     "data": {
      "text/plain": [
       "<matplotlib.figure.Figure at 0x7f6eea01aa20>"
      ]
     },
     "execution_count": 65,
     "metadata": {},
     "output_type": "execute_result"
    },
    {
     "data": {
      "image/png": "[encoded data removed]",
      "text/plain": [
       "<matplotlib.figure.Figure at 0x7f6eea1b7cf8>"
      ]
     },
     "metadata": {},
     "output_type": "display_data"
    },
    {
     "data": {
      "image/png": "[encoded data removed]",
      "text/plain": [
       "<matplotlib.figure.Figure at 0x7f6eea01ae48>"
      ]
     },
     "metadata": {},
     "output_type": "display_data"
    },
    {
     "data": {
      "text/plain": [
       "<matplotlib.figure.Figure at 0x7f6eea01aa20>"
      ]
     },
     "metadata": {},
     "output_type": "display_data"
    }
   ],
   "source": [
    "# plot the night and day ridership graph\n",
    "bins = np.arange(50, 4200, (4200 - 50) / 20)\n",
    "axD = bike_day.groupby(pd.cut(bike_day,bins)).agg([count_nonzero]).plot(kind='bar', \n",
    "                                                                legend=False)\n",
    "plt.grid(b=True)\n",
    "axD.set_title('Duration During Day', fontsize=16)\n",
    "axN = bike_night.groupby(pd.cut(bike_night,bins)).agg([count_nonzero]).plot(kind='bar', \n",
    "                                                                legend=False)\n",
    "axN.set_title('Duration During Night', fontsize=16)\n",
    " \n",
    "plt.grid(b=True)\n",
    "plt.figure(figsize=(10,16))\n"
   ]
  },
  {
   "cell_type": "code",
   "execution_count": 66,
   "metadata": {},
   "outputs": [],
   "source": [
    "#pl.cla()   # Clear axis\n",
    "#pl.clf()   # Clear figure\n",
    "#pl.close() # Close a figure window"
   ]
  },
  {
   "cell_type": "code",
   "execution_count": 81,
   "metadata": {},
   "outputs": [
    {
     "data": {
      "text/html": [
       "<div>\n",
       "<table border=\"1\" class=\"dataframe\">\n",
       "  <thead>\n",
       "    <tr style=\"text-align: right;\">\n",
       "      <th></th>\n",
       "      <th>count_nonzero</th>\n",
       "    </tr>\n",
       "    <tr>\n",
       "      <th>tripduration</th>\n",
       "      <th></th>\n",
       "    </tr>\n",
       "  </thead>\n",
       "  <tbody>\n",
       "    <tr>\n",
       "      <th>(50, 257.5]</th>\n",
       "      <td>-0.016278</td>\n",
       "    </tr>\n",
       "    <tr>\n",
       "      <th>(257.5, 465]</th>\n",
       "      <td>-0.026788</td>\n",
       "    </tr>\n",
       "    <tr>\n",
       "      <th>(465, 672.5]</th>\n",
       "      <td>-0.023604</td>\n",
       "    </tr>\n",
       "    <tr>\n",
       "      <th>(672.5, 880]</th>\n",
       "      <td>-0.023693</td>\n",
       "    </tr>\n",
       "    <tr>\n",
       "      <th>(880, 1087.5]</th>\n",
       "      <td>-0.021533</td>\n",
       "    </tr>\n",
       "    <tr>\n",
       "      <th>(1087.5, 1295]</th>\n",
       "      <td>-0.018919</td>\n",
       "    </tr>\n",
       "    <tr>\n",
       "      <th>(1295, 1502.5]</th>\n",
       "      <td>-0.014586</td>\n",
       "    </tr>\n",
       "    <tr>\n",
       "      <th>(1502.5, 1710]</th>\n",
       "      <td>-0.010460</td>\n",
       "    </tr>\n",
       "    <tr>\n",
       "      <th>(1710, 1917.5]</th>\n",
       "      <td>-0.007023</td>\n",
       "    </tr>\n",
       "    <tr>\n",
       "      <th>(1917.5, 2125]</th>\n",
       "      <td>-0.005297</td>\n",
       "    </tr>\n",
       "    <tr>\n",
       "      <th>(2125, 2332.5]</th>\n",
       "      <td>-0.004103</td>\n",
       "    </tr>\n",
       "    <tr>\n",
       "      <th>(2332.5, 2540]</th>\n",
       "      <td>-0.002601</td>\n",
       "    </tr>\n",
       "    <tr>\n",
       "      <th>(2540, 2747.5]</th>\n",
       "      <td>-0.001848</td>\n",
       "    </tr>\n",
       "    <tr>\n",
       "      <th>(2747.5, 2955]</th>\n",
       "      <td>-0.001381</td>\n",
       "    </tr>\n",
       "    <tr>\n",
       "      <th>(2955, 3162.5]</th>\n",
       "      <td>-0.001036</td>\n",
       "    </tr>\n",
       "    <tr>\n",
       "      <th>(3162.5, 3370]</th>\n",
       "      <td>-0.000629</td>\n",
       "    </tr>\n",
       "    <tr>\n",
       "      <th>(3370, 3577.5]</th>\n",
       "      <td>-0.000453</td>\n",
       "    </tr>\n",
       "    <tr>\n",
       "      <th>(3577.5, 3785]</th>\n",
       "      <td>-0.000152</td>\n",
       "    </tr>\n",
       "    <tr>\n",
       "      <th>(3785, 3992.5]</th>\n",
       "      <td>0.000000</td>\n",
       "    </tr>\n",
       "  </tbody>\n",
       "</table>\n",
       "</div>"
      ],
      "text/plain": [
       "                count_nonzero\n",
       "tripduration                 \n",
       "(50, 257.5]         -0.016278\n",
       "(257.5, 465]        -0.026788\n",
       "(465, 672.5]        -0.023604\n",
       "(672.5, 880]        -0.023693\n",
       "(880, 1087.5]       -0.021533\n",
       "(1087.5, 1295]      -0.018919\n",
       "(1295, 1502.5]      -0.014586\n",
       "(1502.5, 1710]      -0.010460\n",
       "(1710, 1917.5]      -0.007023\n",
       "(1917.5, 2125]      -0.005297\n",
       "(2125, 2332.5]      -0.004103\n",
       "(2332.5, 2540]      -0.002601\n",
       "(2540, 2747.5]      -0.001848\n",
       "(2747.5, 2955]      -0.001381\n",
       "(2955, 3162.5]      -0.001036\n",
       "(3162.5, 3370]      -0.000629\n",
       "(3370, 3577.5]      -0.000453\n",
       "(3577.5, 3785]      -0.000152\n",
       "(3785, 3992.5]       0.000000"
      ]
     },
     "execution_count": 81,
     "metadata": {},
     "output_type": "execute_result"
    }
   ],
   "source": [
    "day / day.max() - night / night.max()"
   ]
  },
  {
   "cell_type": "code",
   "execution_count": 83,
   "metadata": {},
   "outputs": [
    {
     "data": {
      "text/plain": [
       "<matplotlib.legend.Legend at 0x7f6ee97ebd68>"
      ]
     },
     "execution_count": 83,
     "metadata": {},
     "output_type": "execute_result"
    },
    {
     "data": {
      "image/png": "[encoded data removed]",
      "text/plain": [
       "<matplotlib.figure.Figure at 0x7f6eeb364e10>"
      ]
     },
     "metadata": {},
     "output_type": "display_data"
    }
   ],
   "source": [
    "day = bike_day.groupby(pd.cut(bike_day,bins)).agg([count_nonzero]).cumsum()\n",
    "\n",
    "night = bike_night.groupby(pd.cut(bike_night,bins)).agg([count_nonzero]).cumsum()\n",
    "\n",
    "# print (np.abs(day / day.max() - night / night.max()))\n",
    "#print (np.sqrt(day / day.max() - night / night.max())**2)\n",
    "pl.plot(bins[:-1] + 5, day / day.max(), label = \"Day\")\n",
    "pl.plot(bins[:-1] + 5, night / night.max(), label = \"Night\")\n",
    "pl.plot(bins[:-1] + 5, np.sqrt(night / night.max() - day / day.max())**2, 'k-', label = \"difference\")\n",
    "pl.xlabel(\"Bike Duration\")\n",
    "pl.ylabel(\"Normalized Cumulative Number\")\n",
    "pl.legend() \n",
    "\n"
   ]
  },
  {
   "cell_type": "markdown",
   "metadata": {},
   "source": [
    "## KS tests to compare 2 samples"
   ]
  },
  {
   "cell_type": "markdown",
   "metadata": {},
   "source": [
    "## ## The null hypothsis of this research is (H0) there is no statistical difference in the trip duration of bikers that ride during the day vd night. The significant level is 0.05"
   ]
  },
  {
   "cell_type": "code",
   "execution_count": 36,
   "metadata": {},
   "outputs": [
    {
     "name": "stdout",
     "output_type": "stream",
     "text": [
      "Ks_2sampResult(statistic=0.028733318889103798, pvalue=6.8480746445622545e-84)\n"
     ]
    }
   ],
   "source": [
    "ks = scipy.stats.ks_2samp(bike_day,bike_night)\n",
    "print (ks)"
   ]
  },
  {
   "cell_type": "markdown",
   "metadata": {},
   "source": [
    "## The result of scipy KS test has two conponents: statistic value is 0.028733318889103798, and pvalue is 6.8480746445622545e-84. The pvalue is smaller than 0.05 , thus we can reject the Null Hypothesis. "
   ]
  },
  {
   "cell_type": "code",
   "execution_count": 37,
   "metadata": {},
   "outputs": [
    {
     "name": "stdout",
     "output_type": "stream",
     "text": [
      "p_value: 0.000000 vs. alpha level of 0.050000 and we can reject the null hypothesis\n"
     ]
    }
   ],
   "source": [
    "report = lambda p_value, alpha : print(\"p_value: %f vs. alpha level of %f \\\n",
    "and we can reject the null hypothesis\" % (p_value, alpha)) if p_value < alpha \\\n",
    "else print(\"p_value: %f vs. alpha level of %f \\\n",
    "and we cannot reject the null hypothesis\" % (p_value, alpha))\n",
    "# make use of this function\n",
    "report(ks.pvalue, 0.05)"
   ]
  },
  {
   "cell_type": "markdown",
   "metadata": {},
   "source": [
    "## Pearson's test for correlation"
   ]
  },
  {
   "cell_type": "code",
   "execution_count": 38,
   "metadata": {},
   "outputs": [
    {
     "name": "stdout",
     "output_type": "stream",
     "text": [
      "The correlation coeffecient of Pearsonr test is 0.984683, the p-value is 0.000000\n"
     ]
    }
   ],
   "source": [
    "from scipy import stats\n",
    "a = np.sort(np.random.choice(bike_day, size=min(len(bike_day),len(bike_night))))\n",
    "b = np.sort(np.random.choice(bike_night, size=min(len(bike_day),len(bike_night))))\n",
    "pearsonr= scipy.stats.pearsonr(a, b)\n",
    "\n",
    "print ('The correlation coeffecient of Pearsonr test is %f, the p-value is %f' %(pearsonr[0],pearsonr[1]))"
   ]
  },
  {
   "cell_type": "markdown",
   "metadata": {},
   "source": [
    "The Null hypothesis can be rejected, because the p-value is lower than 0.05"
   ]
  },
  {
   "cell_type": "markdown",
   "metadata": {},
   "source": [
    "## Spearman's  test for correlation"
   ]
  },
  {
   "cell_type": "code",
   "execution_count": 39,
   "metadata": {},
   "outputs": [
    {
     "name": "stdout",
     "output_type": "stream",
     "text": [
      "The correlation coeffecient of Spearman test is 0.999999, the p-value is 0.000000\n"
     ]
    }
   ],
   "source": [
    "spearmanr = stats.spearmanr(a,b)\n",
    "print ('The correlation coeffecient of Spearman test is %f, the p-value is %f' % (spearmanr[0], spearmanr[1]))"
   ]
  },
  {
   "cell_type": "markdown",
   "metadata": {},
   "source": [
    "The Null hypothesis can be rejected, because the p-value is lower than 0.05"
   ]
  },
  {
   "cell_type": "markdown",
   "metadata": {},
   "source": [
    "## Age of bikers for trips originating in Manhattan and in Brooklyn (extra credit)\n"
   ]
  },
  {
   "cell_type": "code",
   "execution_count": null,
   "metadata": {},
   "outputs": [],
   "source": []
  },
  {
   "cell_type": "code",
   "execution_count": null,
   "metadata": {},
   "outputs": [],
   "source": []
  }
 ],
 "metadata": {
  "anaconda-cloud": {},
  "kernelspec": {
   "display_name": "PUI2016_Python3",
   "language": "python",
   "name": "pui2016_python3"
  },
  "language_info": {
   "codemirror_mode": {
    "name": "ipython",
    "version": 3
   },
   "file_extension": ".py",
   "mimetype": "text/x-python",
   "name": "python",
   "nbconvert_exporter": "python",
   "pygments_lexer": "ipython3",
   "version": "3.5.4"
  },
  "latex_envs": {
   "LaTeX_envs_menu_present": true,
   "bibliofile": "biblio.bib",
   "cite_by": "apalike",
   "current_citInitial": 1,
   "eqLabelWithNumbers": true,
   "eqNumInitial": 1,
   "hotkeys": {
    "equation": "Ctrl-E",
    "itemize": "Ctrl-I"
   },
   "labels_anchors": false,
   "latex_user_defs": false,
   "report_style_numbering": false,
   "user_envs_cfg": false
  },
  "toc": {
   "colors": {
    "hover_highlight": "#DAA520",
    "running_highlight": "#FF0000",
    "selected_highlight": "#FFD700"
   },
   "moveMenuLeft": true,
   "nav_menu": {
    "height": "135px",
    "width": "251px"
   },
   "navigate_menu": true,
   "number_sections": true,
   "sideBar": true,
   "threshold": 4,
   "toc_cell": false,
   "toc_section_display": "block",
   "toc_window_display": false
  }
 },
 "nbformat": 4,
 "nbformat_minor": 1
}
