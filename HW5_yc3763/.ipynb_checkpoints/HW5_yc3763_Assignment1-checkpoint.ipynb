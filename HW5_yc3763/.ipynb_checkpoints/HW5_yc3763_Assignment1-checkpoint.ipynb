{
 "cells": [
  {
   "cell_type": "markdown",
   "metadata": {
    "run_control": {
     "frozen": false,
     "read_only": false
    }
   },
   "source": [
    "# exercise with pandas\n",
    "\n",
    "every \"...\" should be replaced with a line of code"
   ]
  },
  {
   "cell_type": "code",
   "execution_count": null,
   "metadata": {},
   "outputs": [],
   "source": [
    "from __future__  import print_function, division\n",
    "import pylab as pl\n",
    "import pandas as pd\n",
    "import numpy as np"
   ]
  },
  {
   "cell_type": "code",
   "execution_count": null,
   "metadata": {},
   "outputs": [],
   "source": [
    "import os\n",
    "print(\"PUIdata\", os.getenv(\"PUIDATA\"))"
   ]
  },
  {
   "cell_type": "code",
   "execution_count": null,
   "metadata": {},
   "outputs": [],
   "source": [
    "os.environ[\"PUIDATA\"] = \"%s/PUIdata\"%os.getenv(\"HOME\")\n",
    "print(\"PUIdata\", os.getenv(\"PUIDATA\"))"
   ]
  },
  {
   "cell_type": "code",
   "execution_count": null,
   "metadata": {},
   "outputs": [],
   "source": [
    "#! curl -O https://www1.nyc.gov/assets/planning/download/zip/data-maps/open-data/nyc_pluto_18v1.zip\n",
    "#! mv nyc_pluto_18v1.zip $PUIDATA\n",
    "#! unzip $PUIDATA/nyc_pluto_18v1.zip\n",
    "#! mv PLUTO_for_WEB $PUIDATA"
   ]
  },
  {
   "cell_type": "code",
   "execution_count": null,
   "metadata": {},
   "outputs": [],
   "source": [
    "MN = pd.read_csv(os.getenv(\"PUIDATA\") + '/PLUTO_for_WEB/MN_18v1.csv')\n",
    "BK = pd.read_csv(os.getenv(\"PUIDATA\") + '/PLUTO_for_WEB/BK_18v1.csv')"
   ]
  },
  {
   "cell_type": "markdown",
   "metadata": {
    "run_control": {
     "frozen": false,
     "read_only": false
    }
   },
   "source": [
    "Read what the PLUTO data is [here](https://www.wired.com/2013/08/nyc-pluto-data-map-party/)\n",
    "\n",
    "Find the PLUTO dataset online, find the cvs file data (not the shape file), it should be about 46M\n",
    "\n",
    "Download it as a zip file, unpack it in PUIDATAEach borough will be in a different file. The goal is to find land plot categories of which there is a higher number in Manhattan (MN) than in Brooklyn (BK)\n",
    "\n",
    "Read in csv data as pandas dataframes (with pd.read_csv() )\n",
    "\n",
    "In a Pandas DataFrame each column is a _series_ (a pandas datatype) to manipulate the data here you will mostly use methods (functions that are defined for a specific datatype and invoked with the _object.method()_ syntax) of the DataFrames (e.g. df.groupby() ) or of the series therein (e.g. series.astype() )"
   ]
  },
  {
   "cell_type": "markdown",
   "metadata": {
    "run_control": {
     "frozen": false,
     "read_only": false
    }
   },
   "source": [
    "# read in te Manhattan and Brooklyn data in 2 separate dataframes w pandas"
   ]
  },
  {
   "cell_type": "markdown",
   "metadata": {
    "ExecuteTime": {
     "end_time": "2018-10-03T05:19:13.282296Z",
     "start_time": "2018-10-03T05:19:13.275852Z"
    },
    "run_control": {
     "frozen": false,
     "read_only": false
    }
   },
   "source": [
    "## show the first 10 lines of each df"
   ]
  },
  {
   "cell_type": "code",
   "execution_count": null,
   "metadata": {
    "ExecuteTime": {
     "end_time": "2018-10-03T05:21:12.960779Z",
     "start_time": "2018-10-03T05:21:12.876994Z"
    },
    "run_control": {
     "frozen": false,
     "read_only": false
    }
   },
   "outputs": [],
   "source": [
    "# show manhattan 10 rows\n",
    "MN.head(10)"
   ]
  },
  {
   "cell_type": "code",
   "execution_count": null,
   "metadata": {
    "ExecuteTime": {
     "end_time": "2018-10-03T05:21:13.024006Z",
     "start_time": "2018-10-03T05:21:12.964164Z"
    },
    "run_control": {
     "frozen": false,
     "read_only": false
    }
   },
   "outputs": [],
   "source": [
    "# show brooklyn 10 rows\n",
    "BK.head(10)"
   ]
  },
  {
   "cell_type": "markdown",
   "metadata": {
    "run_control": {
     "frozen": false,
     "read_only": false
    }
   },
   "source": [
    "## display all columns in each file"
   ]
  },
  {
   "cell_type": "code",
   "execution_count": null,
   "metadata": {
    "ExecuteTime": {
     "end_time": "2018-10-03T05:21:13.034672Z",
     "start_time": "2018-10-03T05:21:13.027534Z"
    },
    "run_control": {
     "frozen": false,
     "read_only": false
    }
   },
   "outputs": [],
   "source": [
    "# show bk\n",
    "BK.columns"
   ]
  },
  {
   "cell_type": "code",
   "execution_count": null,
   "metadata": {
    "ExecuteTime": {
     "end_time": "2018-10-03T05:21:14.347420Z",
     "start_time": "2018-10-03T05:21:14.340626Z"
    },
    "run_control": {
     "frozen": false,
     "read_only": false
    }
   },
   "outputs": [],
   "source": [
    "# show mn\n",
    "MN.columns"
   ]
  },
  {
   "cell_type": "markdown",
   "metadata": {
    "ExecuteTime": {
     "end_time": "2018-10-03T04:53:20.197095Z",
     "start_time": "2018-10-03T04:53:20.190599Z"
    },
    "run_control": {
     "frozen": false,
     "read_only": false
    }
   },
   "source": [
    "# drop all columns but ZipCode and LandUse"
   ]
  },
  {
   "cell_type": "code",
   "execution_count": null,
   "metadata": {
    "ExecuteTime": {
     "end_time": "2018-10-03T05:21:44.952730Z",
     "start_time": "2018-10-03T05:21:44.940640Z"
    },
    "run_control": {
     "frozen": false,
     "read_only": false
    }
   },
   "outputs": [],
   "source": [
    "# drop columns here. Use the .drop method of pandas dataframes, i.e. something like bk.drop()... \n",
    "# make sure you drop \"in place\" and that you drop along the right axis - i.e. the columns. \n",
    "# you can use bk.drop? to the help with this function \n",
    "mn = MN.drop(['Block', 'Lot', 'CD', 'CT2010', 'CB2010', 'SchoolDist', 'Council',\n",
    "        'FireComp', 'PolicePrct', 'HealthCenterDistrict',\n",
    "       'HealthArea', 'SanitBoro', 'SanitDistrict', 'SanitSub', 'Address',\n",
    "       'ZoneDist1'], axis=1)\n",
    "mn.head()"
   ]
  },
  {
   "cell_type": "code",
   "execution_count": null,
   "metadata": {
    "ExecuteTime": {
     "end_time": "2018-10-03T05:21:20.155607Z",
     "start_time": "2018-10-03T05:21:20.144262Z"
    },
    "run_control": {
     "frozen": false,
     "read_only": false
    }
   },
   "outputs": [],
   "source": [
    "# drop columns here...\n",
    "bk = BK.drop([u'Block', u'Lot', u'CD', u'CT2010', u'CB2010', u'SchoolDist',\n",
    "       u'Council',  u'FireComp', u'PolicePrct',\n",
    "       u'HealthCenterDistrict', u'HealthArea', u'SanitBoro', u'SanitDistrict',\n",
    "       u'SanitSub', u'Address', u'ZoneDist1', u'ZoneDist2', u'ZoneDist3',\n",
    "       u'ZoneDist4', u'Overlay1', u'Overlay2', u'SPDist1', u'SPDist2',\n",
    "       u'SPDist3', u'LtdHeight', u'SplitZone', u'BldgClass', \n",
    "       u'Easements', u'OwnerType', u'OwnerName', u'LotArea', u'BldgArea',\n",
    "       u'ComArea', u'ResArea', u'OfficeArea', u'RetailArea', u'GarageArea',\n",
    "       u'StrgeArea', u'FactryArea', u'OtherArea', u'AreaSource', u'NumBldgs',\n",
    "       u'NumFloors', u'UnitsRes', u'UnitsTotal', u'LotFront', u'LotDepth',\n",
    "       u'BldgFront', u'BldgDepth', u'Ext', u'ProxCode', u'IrrLotCode',\n",
    "       u'LotType', u'BsmtCode', u'AssessLand', u'AssessTot', u'ExemptLand',\n",
    "       u'ExemptTot', u'YearBuilt', u'YearAlter1', u'YearAlter2', u'HistDist',\n",
    "       u'Landmark', u'BuiltFAR', u'ResidFAR', u'CommFAR', u'FacilFAR',\n",
    "       u'BoroCode', u'BBL', u'CondoNo', u'Tract2010', u'XCoord', u'YCoord',\n",
    "       u'ZoneMap', u'ZMCode', u'Sanborn', u'TaxMap', u'EDesigNum', u'APPBBL',\n",
    "       u'APPDate', u'PLUTOMapID', u'FIRM07_FLAG', u'PFIRM15_FLAG', u'Version'], axis=1)\n",
    "\n",
    "bk.head()"
   ]
  },
  {
   "cell_type": "markdown",
   "metadata": {
    "run_control": {
     "frozen": false,
     "read_only": false
    }
   },
   "source": [
    "# use groupby to count the building per LandUse code "
   ]
  },
  {
   "cell_type": "code",
   "execution_count": null,
   "metadata": {
    "ExecuteTime": {
     "end_time": "2018-10-03T05:22:51.222154Z",
     "start_time": "2018-10-03T05:22:51.203841Z"
    },
    "run_control": {
     "frozen": false,
     "read_only": false
    }
   },
   "outputs": [],
   "source": [
    "# group Manhattan by land use. Make sure you understand how to use the groupby() method:\n",
    "# this method returns a group object. those objects have methods and some of these methods return dataframes. \n",
    "# What do you want to do? you want to count all objects per each land use type. \n",
    "# So you want to use .groupby() to group by LandUse and then .count() to get the number of element per LandUse\n",
    "# Other methods include .mean() to get the mean of a group, .std(), \n",
    "# and a generic method .apply() to which you can pass any function that operates on a column.\n",
    "# All these methods return dataframes \n",
    "# (hint: use also reset_index) for each df\n",
    "mngrouped = mn.groupby(\"LandUse\").count().reset_index()\n",
    "mngrouped"
   ]
  },
  {
   "cell_type": "code",
   "execution_count": null,
   "metadata": {
    "ExecuteTime": {
     "end_time": "2018-10-03T05:22:46.813021Z",
     "start_time": "2018-10-03T05:22:46.785221Z"
    },
    "run_control": {
     "frozen": false,
     "read_only": false
    }
   },
   "outputs": [],
   "source": [
    "# group BK by land use\n",
    "bkgrouped = bk.groupby(\"LandUse\").count().reset_index()\n",
    "bkgrouped"
   ]
  },
  {
   "cell_type": "markdown",
   "metadata": {
    "run_control": {
     "frozen": false,
     "read_only": false
    }
   },
   "source": [
    "# convert the landuse to integer "
   ]
  },
  {
   "cell_type": "code",
   "execution_count": null,
   "metadata": {
    "ExecuteTime": {
     "end_time": "2018-10-03T05:23:26.209963Z",
     "start_time": "2018-10-03T05:23:26.197623Z"
    },
    "run_control": {
     "frozen": false,
     "read_only": false
    }
   },
   "outputs": [],
   "source": [
    "# convert LandUse to int using the .astype() method of the series\n",
    "bkgrouped.astype(int)\n",
    "bkgrouped.head()"
   ]
  },
  {
   "cell_type": "code",
   "execution_count": null,
   "metadata": {},
   "outputs": [],
   "source": [
    "mngrouped.astype(int)\n",
    "mngrouped.head()"
   ]
  },
  {
   "cell_type": "markdown",
   "metadata": {
    "run_control": {
     "frozen": false,
     "read_only": false
    }
   },
   "source": [
    "# merge the dataframes on land use "
   ]
  },
  {
   "cell_type": "code",
   "execution_count": null,
   "metadata": {
    "ExecuteTime": {
     "end_time": "2018-10-04T02:41:24.261784Z",
     "start_time": "2018-10-04T02:41:24.176481Z"
    },
    "run_control": {
     "frozen": false,
     "read_only": false
    }
   },
   "outputs": [],
   "source": [
    "# merge the dataframes on LandUse. You can use the pandas function merge ( _pd.merge)\n",
    "merge= pd.merge(mngrouped, bkgrouped, on=\"LandUse\", suffixes=('_x', '_y'), )\n",
    "merge.columns"
   ]
  },
  {
   "cell_type": "markdown",
   "metadata": {
    "run_control": {
     "frozen": false,
     "read_only": false
    }
   },
   "source": [
    "# rename things so that you have descriptive names"
   ]
  },
  {
   "cell_type": "markdown",
   "metadata": {
    "ExecuteTime": {
     "end_time": "2018-10-04T03:01:27.055823Z",
     "start_time": "2018-10-04T03:01:27.048997Z"
    }
   },
   "source": [
    "## rename the columns with descriptive names. \n"
   ]
  },
  {
   "cell_type": "code",
   "execution_count": null,
   "metadata": {
    "ExecuteTime": {
     "end_time": "2018-10-03T05:25:08.735314Z",
     "start_time": "2018-10-03T05:25:08.720514Z"
    },
    "run_control": {
     "frozen": false,
     "read_only": false
    }
   },
   "outputs": [],
   "source": [
    "# Use the df.rename() method (hint: it takes a dictionary)\n",
    "# now you can just call \"both\" instead of \"both.head()\" since the file should only have 11 columns\n",
    "both = merge.rename(columns={'ZipCode_x':'zipcode_mn','ZipCode_y':'zipcode_bk'})\n",
    "both"
   ]
  },
  {
   "cell_type": "markdown",
   "metadata": {
    "run_control": {
     "frozen": false,
     "read_only": false
    }
   },
   "source": [
    "## find online the LandUse data dictionary and replace code w the verbose description of it\n"
   ]
  },
  {
   "cell_type": "code",
   "execution_count": null,
   "metadata": {
    "ExecuteTime": {
     "end_time": "2018-10-03T05:25:34.659631Z",
     "start_time": "2018-10-03T05:25:34.643151Z"
    },
    "run_control": {
     "frozen": false,
     "read_only": false
    }
   },
   "outputs": [],
   "source": [
    "# set up Land Use values to descriptive tag\n",
    "landuse_rename = both.replace([1, 2, 3, 4, 5, 6, 7, 8, 9, 10, 11], ['01 One &Two Family Buildings', '02 Multi-Family Walk-Up Buildings', '03 Multi-Family Elevator Buildings', '04 Mixed Residential & Commercial Buildings', '05 Commercial & Office Buildings','06 Industrial & Manufacturing', '07 Transportation & Utility', '08 Public Facilities & Institutions','09 Open Space & Outdoor Recreation','10 Parking Facilities','11 Vacant Land'])\n",
    "landuse_rename"
   ]
  },
  {
   "cell_type": "markdown",
   "metadata": {
    "run_control": {
     "frozen": false,
     "read_only": false
    }
   },
   "source": [
    "# create a feature (a column, a series) with the ratio of number of buildings in BK vs MN and find out in which LandUse class Manhattan has more buildings than BK "
   ]
  },
  {
   "cell_type": "code",
   "execution_count": null,
   "metadata": {
    "ExecuteTime": {
     "end_time": "2018-10-03T05:26:56.697630Z",
     "start_time": "2018-10-03T05:26:56.677403Z"
    },
    "run_control": {
     "frozen": false,
     "read_only": false
    }
   },
   "outputs": [],
   "source": [
    "# calculate the ratio of BK to Man buildings per LandUse category\n",
    "landuse_rename['luratio'] = both.zipcode_mn / both.zipcode_bk \n",
    "landuse_rename"
   ]
  },
  {
   "cell_type": "code",
   "execution_count": null,
   "metadata": {
    "ExecuteTime": {
     "end_time": "2018-10-03T05:27:07.762699Z",
     "start_time": "2018-10-03T05:27:07.744993Z"
    },
    "run_control": {
     "frozen": false,
     "read_only": false
    }
   },
   "outputs": [],
   "source": [
    "# defined function that returns True if the ratio is larger than 0, False otherwise. \n",
    "# Use the series.apply() method to apply that function to the luratio series you jusrt created\n",
    "\n",
    "def function_a(k):\n",
    "    if k > 1:\n",
    "        print('TRUE')\n",
    "    else:\n",
    "        print('FALSE')\n",
    "        \n",
    "landuse_rename['luratio'].apply(function_a)  "
   ]
  },
  {
   "cell_type": "markdown",
   "metadata": {
    "run_control": {
     "frozen": false,
     "read_only": false
    }
   },
   "source": [
    "# comment on what you found out. Does it make sense? "
   ]
  },
  {
   "cell_type": "markdown",
   "metadata": {},
   "source": [
    "Based on calculation on the ratio of Brooklyn to Manhattan buildings per LandUse category, only the Multi-Family Elevator Buildings has a higher percentage in Manhattan than Brooklyn. I feel it makes sense because multi-family elevator buildings are normally a luxury building that has a higher price. And residences who live in Manhattan are having higher average income than those who live in Brooklyn. "
   ]
  }
 ],
 "metadata": {
  "kernelspec": {
   "display_name": "PUI2016_Python3",
   "language": "python",
   "name": "pui2016_python3"
  },
  "language_info": {
   "codemirror_mode": {
    "name": "ipython",
    "version": 3
   },
   "file_extension": ".py",
   "mimetype": "text/x-python",
   "name": "python",
   "nbconvert_exporter": "python",
   "pygments_lexer": "ipython3",
   "version": "3.5.4"
  },
  "toc": {
   "colors": {
    "hover_highlight": "#DAA520",
    "running_highlight": "#FF0000",
    "selected_highlight": "#FFD700"
   },
   "moveMenuLeft": true,
   "nav_menu": {
    "height": "168px",
    "width": "252px"
   },
   "navigate_menu": true,
   "number_sections": true,
   "sideBar": true,
   "threshold": 4,
   "toc_cell": false,
   "toc_section_display": "block",
   "toc_window_display": true
  }
 },
 "nbformat": 4,
 "nbformat_minor": 2
}
